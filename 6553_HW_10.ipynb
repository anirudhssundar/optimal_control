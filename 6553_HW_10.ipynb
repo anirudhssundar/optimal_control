{
  "nbformat": 4,
  "nbformat_minor": 0,
  "metadata": {
    "colab": {
      "name": "6553_HW_10.ipynb",
      "provenance": [],
      "collapsed_sections": [],
      "authorship_tag": "ABX9TyM8kwji6YPsWXoAqZP3KqzD",
      "include_colab_link": true
    },
    "kernelspec": {
      "name": "python3",
      "display_name": "Python 3"
    },
    "language_info": {
      "name": "python"
    }
  },
  "cells": [
    {
      "cell_type": "markdown",
      "metadata": {
        "id": "view-in-github",
        "colab_type": "text"
      },
      "source": [
        "<a href=\"https://colab.research.google.com/github/anirudhssundar/optimal_control/blob/main/6553_HW_10.ipynb\" target=\"_parent\"><img src=\"https://colab.research.google.com/assets/colab-badge.svg\" alt=\"Open In Colab\"/></a>"
      ]
    },
    {
      "cell_type": "code",
      "execution_count": 107,
      "metadata": {
        "id": "775uZfaa2xvx"
      },
      "outputs": [],
      "source": [
        "import numpy as np\n",
        "import matplotlib.pyplot as plt"
      ]
    },
    {
      "cell_type": "code",
      "source": [
        "def get_p(x,dt):\n",
        "  # p = [x[-1]]\n",
        "  p = [0]\n",
        "  x_rev = x[::-1]\n",
        "  for i in range(1,len(x)):\n",
        "    # p_t_minus_dt = p[-1]*(1-dt) + 2*x_rev[i]*dt\n",
        "    p_t_minus_dt = p[-1] - dt*(p[-1]/(2*np.sqrt(x_rev[i])) - (x_rev[i]-2.5))\n",
        "    p.append(p_t_minus_dt)\n",
        "  return np.array(p[::-1])"
      ],
      "metadata": {
        "id": "VEy_5HR522H2"
      },
      "execution_count": 108,
      "outputs": []
    },
    {
      "cell_type": "code",
      "source": [
        "def get_u(t1,dt):\n",
        "  t = np.arange(1000)\n",
        "  dynu = []\n",
        "  for i,foo in enumerate(t):\n",
        "    if foo*dt < t_1:\n",
        "      dynu.append(2)\n",
        "    else:\n",
        "      dynu.append(1)\n",
        "  return dynu"
      ],
      "metadata": {
        "id": "9xjFxh6fwrBN"
      },
      "execution_count": 109,
      "outputs": []
    },
    {
      "cell_type": "code",
      "source": [
        "def J(x,r,dt):\n",
        "  val = 0.5*np.sum((x - r)**2)*dt\n",
        "  return val"
      ],
      "metadata": {
        "id": "x27y6rSbsg7k"
      },
      "execution_count": 110,
      "outputs": []
    },
    {
      "cell_type": "code",
      "source": [
        "def dyn_u(t_1,dt):\n",
        "  t = np.arange(1000)\n",
        "  dynu = []\n",
        "  for i,foo in enumerate(t):\n",
        "\n",
        "    if foo*dt < t_1:\n",
        "      dynu.append(2)\n",
        "    else:\n",
        "      dynu.append(1)\n",
        "  \n",
        "  dynx = get_trajectory(dynu,1.5,dt)\n",
        "  cost = J(dynx,2.5,dt)\n",
        "  return cost"
      ],
      "metadata": {
        "id": "kYCBwkYqs53-"
      },
      "execution_count": 111,
      "outputs": []
    },
    {
      "cell_type": "code",
      "source": [
        "def get_trajectory(u,x_0,dt):\n",
        "  x = x_0\n",
        "  x_fin = []\n",
        "  x_fin.append(x_0)\n",
        "  for i in u:\n",
        "    x_dot = -np.sqrt(x) + i\n",
        "    x_new = x_dot*dt + x\n",
        "    x_fin.append(x_new)\n",
        "    x = x_new \n",
        "  return np.array(x_fin)"
      ],
      "metadata": {
        "id": "JX2ssEd24Fx8"
      },
      "execution_count": 112,
      "outputs": []
    },
    {
      "cell_type": "code",
      "source": [
        "x_0 = 1.5\n",
        "# t = 10\n",
        "r = 2.5\n",
        "t = np.arange(1000)\n",
        "dt = 0.01\n",
        "alpha=0.2\n",
        "beta=0.5\n",
        "tol = 1e-4\n",
        "\n",
        "# for split in np.arange(5,7):\n",
        "t_1 = 9\n",
        "\n",
        "u = []\n",
        "for i,foo in enumerate(t):\n",
        "  if foo*dt < t_1:\n",
        "    u.append(2)\n",
        "  else:\n",
        "    u.append(1)\n",
        "x = np.array(get_trajectory(u,x_0,dt))\n",
        "p = get_p(x,dt)\n",
        "iters = 0\n",
        "\n",
        "# ARMIJO STUFF\n",
        "if abs(p[int(t_1*dt)])<tol:\n",
        "  print(\"done\")\n",
        "else:\n",
        "  while abs(p[int(t_1*dt)])>tol:\n",
        "    if iters==8:\n",
        "      break\n",
        "    k=0\n",
        "    while dyn_u(t_1 - (beta**k)*p[int(t_1*dt)],dt) > dyn_u(t_1,dt) -alpha*(beta**k)*(p[int(t_1*dt)]**2):\n",
        "      k+=1\n",
        "      # print(k)\n",
        "      # print(dyn_u(t_1 - (beta**k)*p[int(t_1*dt)],dt))\n",
        "\n",
        "      if k==10:\n",
        "        break\n",
        "    lambd = -(beta**k)/(beta**2)\n",
        "    # beta = beta*2\n",
        "    t_1 = t_1 + lambd*p[int(t_1*dt)]\n",
        "    plt.scatter(iters, dyn_u(t_1,dt))\n",
        "    print(\"t changed\",t_1)\n",
        "\n",
        "    u_new = get_u(t_1,dt)\n",
        "    x_new = get_trajectory(u_new, x_0,dt)\n",
        "    p = get_p(x_new,dt)\n",
        "    iters+=1\n",
        "#  J = 0.5*np.sum((x - r)**2)*dt\n",
        "  # print(split, J)\n",
        "print(t_1)\n",
        "fin_u = []\n",
        "for i,foo in enumerate(t):\n",
        "  if foo*dt < t_1:\n",
        "    fin_u.append(2)\n",
        "  else:\n",
        "    fin_u.append(1)\n",
        "fin_x = np.array(get_trajectory(fin_u,x_0,dt))\n",
        "fin_p = get_p(fin_x,dt)\n",
        "fin_cost = J(fin_x, r, dt)\n",
        "print(fin_cost)"
      ],
      "metadata": {
        "colab": {
          "base_uri": "https://localhost:8080/",
          "height": 447
        },
        "id": "nmMw2nDH4VUl",
        "outputId": "54431cfd-e455-4a27-dff1-5117edc63a78"
      },
      "execution_count": 115,
      "outputs": [
        {
          "output_type": "stream",
          "name": "stdout",
          "text": [
            "t changed 7.183271789729308\n",
            "t changed 6.1616338080206505\n",
            "t changed 5.923614217291288\n",
            "t changed 5.923597167128384\n",
            "t changed 5.92358011696548\n",
            "t changed 5.9235630668025765\n",
            "t changed 5.923546016639673\n",
            "t changed 5.923528966476769\n",
            "5.923528966476769\n",
            "1.9731518639637977\n"
          ]
        },
        {
          "output_type": "display_data",
          "data": {
            "text/plain": [
              "<Figure size 432x288 with 1 Axes>"
            ],
            "image/png": "[encoded data removed]"
          },
          "metadata": {
            "needs_background": "light"
          }
        }
      ]
    },
    {
      "cell_type": "code",
      "source": [
        "t_1 - (beta**k)*p[int(t_1*dt)]\n",
        "-alpha*(beta**k)*(p[int(t_1*dt)]**2)"
      ],
      "metadata": {
        "colab": {
          "base_uri": "https://localhost:8080/"
        },
        "id": "SGYl6CWdL7J0",
        "outputId": "f72d9d77-1081-4029-e26c-095e009019a7"
      },
      "execution_count": null,
      "outputs": [
        {
          "output_type": "execute_result",
          "data": {
            "text/plain": [
              "-1.822903691917414e-31"
            ]
          },
          "metadata": {},
          "execution_count": 85
        }
      ]
    },
    {
      "cell_type": "code",
      "source": [
        "plt.plot(t,x[:-1])"
      ],
      "metadata": {
        "colab": {
          "base_uri": "https://localhost:8080/",
          "height": 283
        },
        "id": "3GTbWAg54vfj",
        "outputId": "6f6a9fc4-d7d4-447b-f44b-7feb5a04e4c4"
      },
      "execution_count": null,
      "outputs": [
        {
          "output_type": "execute_result",
          "data": {
            "text/plain": [
              "[<matplotlib.lines.Line2D at 0x7f9d630adcd0>]"
            ]
          },
          "metadata": {},
          "execution_count": 67
        },
        {
          "output_type": "display_data",
          "data": {
            "text/plain": [
              "<Figure size 432x288 with 1 Axes>"
            ],
            "image/png": "[encoded data removed]"
          },
          "metadata": {
            "needs_background": "light"
          }
        }
      ]
    },
    {
      "cell_type": "code",
      "source": [
        "cost = 0.5*np.sum((x - r)**2)*dt"
      ],
      "metadata": {
        "id": "Z4JdchMt4w9C"
      },
      "execution_count": null,
      "outputs": []
    },
    {
      "cell_type": "code",
      "source": [
        "cost"
      ],
      "metadata": {
        "colab": {
          "base_uri": "https://localhost:8080/"
        },
        "id": "AuX7yoV95rjK",
        "outputId": "7b6dc58a-ecbc-4ea7-a759-fb42ae55d1de"
      },
      "execution_count": null,
      "outputs": [
        {
          "output_type": "execute_result",
          "data": {
            "text/plain": [
              "9.924805914640503"
            ]
          },
          "metadata": {},
          "execution_count": 69
        }
      ]
    },
    {
      "cell_type": "code",
      "source": [
        "plt.plot(u)"
      ],
      "metadata": {
        "colab": {
          "base_uri": "https://localhost:8080/",
          "height": 283
        },
        "id": "UVNVbwSf5vDr",
        "outputId": "bd5687fb-4a2e-4f8d-9b5d-c814c3139af1"
      },
      "execution_count": null,
      "outputs": [
        {
          "output_type": "execute_result",
          "data": {
            "text/plain": [
              "[<matplotlib.lines.Line2D at 0x7f9d6302f6d0>]"
            ]
          },
          "metadata": {},
          "execution_count": 70
        },
        {
          "output_type": "display_data",
          "data": {
            "text/plain": [
              "<Figure size 432x288 with 1 Axes>"
            ],
            "image/png": "[encoded data removed]"
          },
          "metadata": {
            "needs_background": "light"
          }
        }
      ]
    },
    {
      "cell_type": "code",
      "source": [
        "p = get_p(x,dt)"
      ],
      "metadata": {
        "id": "_EC46wHT-AGw"
      },
      "execution_count": null,
      "outputs": []
    },
    {
      "cell_type": "code",
      "source": [
        "plt.plot(fin_p)"
      ],
      "metadata": {
        "colab": {
          "base_uri": "https://localhost:8080/",
          "height": 283
        },
        "id": "rQVLcXcf-c3A",
        "outputId": "f0740631-936a-46d6-8977-f4bc737f6156"
      },
      "execution_count": null,
      "outputs": [
        {
          "output_type": "execute_result",
          "data": {
            "text/plain": [
              "[<matplotlib.lines.Line2D at 0x7f9d6301e290>]"
            ]
          },
          "metadata": {},
          "execution_count": 72
        },
        {
          "output_type": "display_data",
          "data": {
            "text/plain": [
              "<Figure size 432x288 with 1 Axes>"
            ],
            "image/png": "[encoded data removed]"
          },
          "metadata": {
            "needs_background": "light"
          }
        }
      ]
    },
    {
      "cell_type": "code",
      "source": [
        "t_1"
      ],
      "metadata": {
        "colab": {
          "base_uri": "https://localhost:8080/"
        },
        "id": "qeY8f_cN-0PF",
        "outputId": "e729e43f-1d13-47b8-bcf4-bfcc179261b5"
      },
      "execution_count": null,
      "outputs": [
        {
          "output_type": "execute_result",
          "data": {
            "text/plain": [
              "5.830230077839615"
            ]
          },
          "metadata": {},
          "execution_count": 87
        }
      ]
    },
    {
      "cell_type": "code",
      "source": [
        ""
      ],
      "metadata": {
        "id": "JLrdgBITt9Ye"
      },
      "execution_count": null,
      "outputs": []
    }
  ]
}