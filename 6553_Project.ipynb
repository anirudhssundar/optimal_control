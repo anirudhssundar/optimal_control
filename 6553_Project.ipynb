{
  "nbformat": 4,
  "nbformat_minor": 0,
  "metadata": {
    "colab": {
      "name": "6553_Project.ipynb",
      "provenance": [],
      "collapsed_sections": [],
      "authorship_tag": "ABX9TyPlHSi/3RsjjKo8q9ca2iYp",
      "include_colab_link": true
    },
    "kernelspec": {
      "name": "python3",
      "display_name": "Python 3"
    },
    "language_info": {
      "name": "python"
    }
  },
  "cells": [
    {
      "cell_type": "markdown",
      "metadata": {
        "id": "view-in-github",
        "colab_type": "text"
      },
      "source": [
        "<a href=\"https://colab.research.google.com/github/anirudhssundar/optimal_control/blob/main/6553_Project.ipynb\" target=\"_parent\"><img src=\"https://colab.research.google.com/assets/colab-badge.svg\" alt=\"Open In Colab\"/></a>"
      ]
    },
    {
      "cell_type": "code",
      "execution_count": 141,
      "metadata": {
        "id": "775uZfaa2xvx"
      },
      "outputs": [],
      "source": [
        "import numpy as np\n",
        "import matplotlib.pyplot as plt"
      ]
    },
    {
      "cell_type": "code",
      "source": [
        "def get_p(x1,x2,r,dt):\n",
        "  # p = [x[-1]]\n",
        "\n",
        "  if type(r)!=int:\n",
        "    p1 = [0]\n",
        "    p2 = [0]\n",
        "    x1_rev = x1[::-1]\n",
        "    x2_rev = x2[::-1]\n",
        "    r_rev = r[::-1]\n",
        "    for i in range(1,len(x1)):\n",
        "      # p_t_minus_dt = p[-1]*(1-dt) + 2*x_rev[i]*dt\n",
        "      p2_t_minus_dt = p2[-1] - dt*(p2[-1]/(2*np.sqrt(x2_rev[i])) - 4*(x2_rev[i]-r_rev[i]))\n",
        "      p2.append(p2_t_minus_dt)\n",
        "\n",
        "      p1_t_minus_dt = p1[-1] - dt*(p1[-1]/(2*np.sqrt(x1_rev[i])) - p2[-1]/(2*np.sqrt(x1_rev[i])))\n",
        "      p1.append(p1_t_minus_dt)\n",
        "    return np.array(p1[::-1]), np.array(p2[::-1])\n",
        "  \n",
        "  else:\n",
        "    p1 = [0]\n",
        "    p2 = [0]\n",
        "    x1_rev = x1[::-1]\n",
        "    x2_rev = x2[::-1]\n",
        "    for i in range(1,len(x1)):\n",
        "      # p_t_minus_dt = p[-1]*(1-dt) + 2*x_rev[i]*dt\n",
        "      p2_t_minus_dt = p2[-1] - dt*(p2[-1]/(2*np.sqrt(x2_rev[i])) - 4*(x2_rev[i]-r))\n",
        "      p2.append(p2_t_minus_dt)\n",
        "\n",
        "      p1_t_minus_dt = p1[-1] - dt*(p1[-1]/(2*np.sqrt(x1_rev[i])) - p2[-1]/(2*np.sqrt(x1_rev[i])))\n",
        "      p1.append(p1_t_minus_dt)\n",
        "    return np.array(p1[::-1]), np.array(p2[::-1])"
      ],
      "metadata": {
        "id": "VEy_5HR522H2"
      },
      "execution_count": 142,
      "outputs": []
    },
    {
      "cell_type": "code",
      "source": [
        "def get_u(t1,t2,t3,dt):\n",
        "  t = np.arange(1000)\n",
        "  dynu = []\n",
        "  for i,foo in enumerate(t):\n",
        "    if foo*dt < t1:\n",
        "      dynu.append(2)\n",
        "    elif (foo*dt>=t1) and (foo*dt<t2):\n",
        "      dynu.append(1)\n",
        "    elif (foo*dt>=t2) and(foo*dt<t3):\n",
        "      dynu.append(2)\n",
        "    else:\n",
        "      dynu.append(1)\n",
        "  return dynu"
      ],
      "metadata": {
        "id": "9xjFxh6fwrBN"
      },
      "execution_count": 173,
      "outputs": []
    },
    {
      "cell_type": "code",
      "source": [
        "def get_single_u(t1,dt):\n",
        "  t = np.arange(1000)\n",
        "  dynu = []\n",
        "  for i,foo in enumerate(t):\n",
        "    if foo*dt < t1:\n",
        "      dynu.append(2)\n",
        "    else:\n",
        "      dynu.append(1)\n",
        "  return np.array(dynu)"
      ],
      "metadata": {
        "id": "QLKxo8nIIXuV"
      },
      "execution_count": 186,
      "outputs": []
    },
    {
      "cell_type": "code",
      "source": [
        "def J(x,r,dt):\n",
        "  val = 2*np.sum((x - r)**2)*dt\n",
        "  return val"
      ],
      "metadata": {
        "id": "x27y6rSbsg7k"
      },
      "execution_count": 144,
      "outputs": []
    },
    {
      "cell_type": "code",
      "source": [
        "def J_vec(x,r,dt):\n",
        "  val = 2*np.sum((x))"
      ],
      "metadata": {
        "id": "OK5AEReFwcwV"
      },
      "execution_count": 145,
      "outputs": []
    },
    {
      "cell_type": "code",
      "source": [
        "def dyn_u(t1,t2,dt):\n",
        "  dynu = get_u(t1,t2,dt)\n",
        "  dynx = get_trajectory(dynu,1.5,dt)\n",
        "  cost = J(dynx,2.5,dt)\n",
        "  return cost"
      ],
      "metadata": {
        "id": "kYCBwkYqs53-"
      },
      "execution_count": 146,
      "outputs": []
    },
    {
      "cell_type": "code",
      "source": [
        "def get_trajectory_x1(u,x1_0,dt):\n",
        "  x = x1_0\n",
        "  x_fin = []\n",
        "  x_fin.append(x1_0)\n",
        "  for i in u:\n",
        "    x_dot = -np.sqrt(x) + i\n",
        "    x_new = x_dot*dt + x\n",
        "    x_fin.append(x_new)\n",
        "    x = x_new \n",
        "  return np.array(x_fin[:-1])"
      ],
      "metadata": {
        "id": "JX2ssEd24Fx8"
      },
      "execution_count": 147,
      "outputs": []
    },
    {
      "cell_type": "code",
      "source": [
        "def get_trajectory_x2(x1,x2_0,dt):\n",
        "  x = x2_0\n",
        "  x_fin = []\n",
        "  x_fin.append(x2_0)\n",
        "  for i in x1:\n",
        "    x_dot = -np.sqrt(x) + i\n",
        "    x_new = x_dot*dt + x\n",
        "    x_fin.append(x_new)\n",
        "    x = x_new \n",
        "  return np.array(x_fin[:-1])"
      ],
      "metadata": {
        "id": "QW9y1Y6hUIax"
      },
      "execution_count": 148,
      "outputs": []
    },
    {
      "cell_type": "code",
      "source": [
        "def minimize_hamiltonian(p1,p2,x1,x2,dt):\n",
        "  conv_u = np.arange(1,2,0.01)\n",
        "  # minimize p1f1 + p2f2 +L -> same as minimizing p1f1 since u doesnt appear in f2\n",
        "  v_i = []\n",
        "  for i in range(len(p1)):\n",
        "    min_index = np.argmin(p1[i]*(conv_u-np.sqrt(x1[i])))\n",
        "    v_i.append(conv_u[min_index])\n",
        "  return np.array(v_i)"
      ],
      "metadata": {
        "id": "t-VXC0Mjbz2t"
      },
      "execution_count": 149,
      "outputs": []
    },
    {
      "cell_type": "code",
      "source": [
        "# Part a -> Single switching\n",
        "x1_0 = 2\n",
        "x2_0 = 2\n",
        "dt = 0.01\n",
        "t = np.arange(1000)\n",
        "r = 3\n",
        "\n",
        "u = np.ones(1000)\n",
        "x1 = get_trajectory_x1(u, x1_0,dt)\n",
        "x2 = get_trajectory_x2(x1, x2_0, dt)\n",
        "\n",
        "\n",
        "alpha=0.0002\n",
        "beta=0.5\n",
        "tol = 1e-4\n",
        "\n",
        "t_1 = 5\n",
        "# t_2 = np.arange()\n",
        "# t_3 = 9\n",
        "\n",
        "u = np.array(500*[2]+500*[1])\n",
        "x1 = get_trajectory_x1(u, x1_0,dt)\n",
        "x2 = get_trajectory_x2(x1, x2_0, dt)\n",
        "p1,p2 = get_p(x1,x2,r,dt)\n",
        "\n",
        "# ARMIJO STUFF\n",
        "\n",
        "# Single Switch\n",
        "for iters in range(10):\n",
        "  \n",
        "  x1 = get_trajectory_x1(u, x1_0,dt)\n",
        "  x2 = get_trajectory_x2(x1, x2_0, dt)\n",
        "  \n",
        "  plt.scatter(iters,J(x2,r,dt))\n",
        "\n",
        "  for l in range(20):\n",
        "    t_new = t_1 - (beta**l)*p1[int(t_1*dt)]\n",
        "    if t_new < 0:\n",
        "      t_new = t_1\n",
        "    u_new = get_single_u(t_new,dt)\n",
        "    x1_temp = get_trajectory_x1(u_new, x1_0,dt)\n",
        "    x2_temp = get_trajectory_x2(x1_temp, x2_0, dt)\n",
        "    if J(x2_temp,r,dt) - J(x2,r,dt) < -alpha*(beta**l)*(p1[int(t_1*dt)]**2):\n",
        "      t_1 = t_new\n",
        "      print(\"hi\",t_1)\n",
        "      u = u_new\n",
        "      # print(l)\n",
        "      break\n",
        "    beta = beta/2\n",
        "# plt.plot(u)"
      ],
      "metadata": {
        "colab": {
          "base_uri": "https://localhost:8080/",
          "height": 414
        },
        "id": "nmMw2nDH4VUl",
        "outputId": "aa0e6d71-c188-412a-f7b8-5fdbb710788a"
      },
      "execution_count": 257,
      "outputs": [
        {
          "output_type": "stream",
          "name": "stdout",
          "text": [
            "hi 4.507480037467594\n",
            "hi 2.537400187337968\n",
            "hi 1.5523602622731554\n"
          ]
        },
        {
          "output_type": "execute_result",
          "data": {
            "text/plain": [
              "'\\nif abs(p1[int(t_1*dt)])<tol:\\n  print(\"done\")\\nelse:\\n  while abs(p1[int(t_1*dt)])>tol:\\n    if iters==8:\\n      break\\n    k=0\\n    while dyn_u(t_1 - (beta**k)*p[int(t_1*dt)],t_2,dt) > dyn_u(t_1,t_2,dt) -alpha*(beta**k)*(p[int(t_1*dt)]**2):\\n      k+=1\\n      # print(k)\\n      # print(dyn_u(t_1 - (beta**k)*p[int(t_1*dt)],dt))\\n\\n      if k==20:\\n        break\\n    lambd = -(beta**k)/(beta**2)\\n    # beta = beta*2\\n    t_1 = t_1 + lambd*p[int(t_1*dt)]\\n    plt.scatter(iters, dyn_u(t_1,t_2,dt))\\n    print(\"t changed\",t_1)\\n\\n    u_new = get_u(t_1,t_2,dt)\\n    x_new = get_trajectory(u_new, x_0,dt)\\n    p = get_p(x_new,dt)\\n    iters+=1\\n\\n\\nalpha=0.2\\nbeta=0.5\\niters=0\\nif abs(p[int(t_2*dt)])<tol:\\n  print(\"done\")\\nelse:\\n  while abs(p[int(t_2*dt)])>tol:\\n    if iters==8:\\n      break\\n    k=0\\n    while dyn_u(t_1,t_2 - (beta**k)*p[int(t_2*dt)],dt) > dyn_u(t_1,t_2,dt) -alpha*(beta**k)*(p[int(t_2*dt)]**2):\\n      k+=1\\n      # print(k)\\n      # print(dyn_u(t_1 - (beta**k)*p[int(t_1*dt)],dt))\\n\\n      if k==10:\\n        break\\n    lambd = -(beta**k)/(beta**2)\\n    # beta = beta*2\\n    t_2 = t_2 + lambd*p[int(t_2*dt)]\\n    plt.scatter(iters, dyn_u(t_1,t_2,dt))\\n    print(\"t changed\",t_2)\\n\\n    u_new = get_u(t_1,t_2,dt)\\n    x_new = get_trajectory(u_new, x_0,dt)\\n    p = get_p(x_new,dt)\\n    iters+=1\\n#  J = 0.5*np.sum((x - r)**2)*dt\\n  # print(split, J)\\nprint(t_1)\\nprint(t_2)\\nfin_u = get_u(t_1,t_2,dt)\\nfin_x = np.array(get_trajectory(fin_u,x_0,dt))\\nfin_p = get_p(fin_x,dt)\\nfin_cost = J(fin_x, r, dt)\\nprint(fin_cost)\\n'"
            ],
            "application/vnd.google.colaboratory.intrinsic+json": {
              "type": "string"
            }
          },
          "metadata": {},
          "execution_count": 257
        },
        {
          "output_type": "display_data",
          "data": {
            "text/plain": [
              "<Figure size 432x288 with 1 Axes>"
            ],
            "image/png": "[encoded data removed]"
          },
          "metadata": {
            "needs_background": "light"
          }
        }
      ]
    },
    {
      "cell_type": "code",
      "source": [
        "# u = np.array(500*[2]+500*[1])\n",
        "x1 = get_trajectory_x1(u, x1_0,dt)\n",
        "x2 = get_trajectory_x2(x1, x2_0, dt)\n",
        "p1,p2 = get_p(x1,x2,r,dt)"
      ],
      "metadata": {
        "id": "wrSzyKUHZUHx"
      },
      "execution_count": 258,
      "outputs": []
    },
    {
      "cell_type": "code",
      "source": [
        "plt.plot(x2)\n",
        "print(J(x2,r,dt))\n",
        "# t_new"
      ],
      "metadata": {
        "colab": {
          "base_uri": "https://localhost:8080/",
          "height": 283
        },
        "id": "Y2AuxVc4Ja7d",
        "outputId": "42241176-fb18-41a4-8caf-e4c6d3d23a84"
      },
      "execution_count": 259,
      "outputs": [
        {
          "output_type": "stream",
          "name": "stdout",
          "text": [
            "11.482860255386065\n"
          ]
        },
        {
          "output_type": "display_data",
          "data": {
            "text/plain": [
              "<Figure size 432x288 with 1 Axes>"
            ],
            "image/png": "[encoded data removed]"
          },
          "metadata": {
            "needs_background": "light"
          }
        }
      ]
    },
    {
      "cell_type": "code",
      "source": [
        "# Project 1b\n",
        "x1_0 = 2\n",
        "x2_0 = 2\n",
        "dt = 0.01\n",
        "t = np.arange(1000)\n",
        "r = 3\n",
        "\n",
        "u = np.ones(1000)\n",
        "x1 = get_trajectory_x1(u, x1_0,dt)\n",
        "x2 = get_trajectory_x2(x1, x2_0, dt)\n",
        "# plt.plot(x1)\n",
        "# plt.plot(x2)\n",
        "# p1 = get_p(x1,dt)\n",
        "# p2 = get_p(x2,dt)\n",
        "# plt.plot(p1)\n",
        "# plt.plot(p2)\n",
        "p1,p2 = get_p(x1,x2,r,dt)\n",
        "alpha = 1e-4\n",
        "beta = 0.5\n",
        "tol = 1e-4\n",
        "\n",
        "for j in range(20):\n",
        "  x1 = get_trajectory_x1(u,x1_0,dt)\n",
        "  x2 = get_trajectory_x2(x1,x2_0,dt)\n",
        "\n",
        "  plt.scatter(j,J(x2,r,dt))\n",
        "\n",
        "  p1,p2 = get_p(x1,x2,r,dt)\n",
        "  v_i = minimize_hamiltonian(p1,p2,x1,x2,dt)\n",
        "\n",
        "  theta_u = dt*np.sum(np.dot(p1, v_i - u))\n",
        "\n",
        "  for l in range(10):\n",
        "\n",
        "    convex_combination = (1 - beta**l)*u + (beta**l)*v_i\n",
        "\n",
        "    x1_temp = get_trajectory_x1(convex_combination,x1_0,dt)\n",
        "    x2_temp = get_trajectory_x2(x1_temp,x2_0,dt)\n",
        "    if J(x2_temp,r,dt) - J(x2,r,dt) < alpha*(beta**l)*theta_u:\n",
        "      # print(l)\n",
        "      u = convex_combination\n",
        "      # plt.plot(u)\n",
        "      beta = beta/2\n",
        "      break\n",
        "x1_fin = get_trajectory_x1(u, x1_0,dt)\n",
        "x2_fin = get_trajectory_x2(x1_fin, x2_0,dt)\n",
        "plt.figure()\n",
        "plt.plot(t,x1_fin,color='b')\n",
        "plt.plot(t,x2_fin,color='g')\n",
        "plt.hlines(y=3.0,xmin=0,xmax=1000,colors='r')"
      ],
      "metadata": {
        "colab": {
          "base_uri": "https://localhost:8080/",
          "height": 531
        },
        "id": "gmEL1XxraBV6",
        "outputId": "fc23e5fb-3f52-438e-ea19-98be33e666a3"
      },
      "execution_count": 125,
      "outputs": [
        {
          "output_type": "execute_result",
          "data": {
            "text/plain": [
              "<matplotlib.collections.LineCollection at 0x7fabddffad10>"
            ]
          },
          "metadata": {},
          "execution_count": 125
        },
        {
          "output_type": "display_data",
          "data": {
            "text/plain": [
              "<Figure size 432x288 with 1 Axes>"
            ],
            "image/png": "[encoded data removed]"
          },
          "metadata": {
            "needs_background": "light"
          }
        },
        {
          "output_type": "display_data",
          "data": {
            "text/plain": [
              "<Figure size 432x288 with 1 Axes>"
            ],
            "image/png": "[encoded data removed]"
          },
          "metadata": {
            "needs_background": "light"
          }
        }
      ]
    },
    {
      "cell_type": "code",
      "source": [
        "plt.plot(u[:-1])"
      ],
      "metadata": {
        "colab": {
          "base_uri": "https://localhost:8080/",
          "height": 283
        },
        "id": "ALHQlW7veu5w",
        "outputId": "8c5fb7d9-9985-43da-ced4-a3b5851f4c89"
      },
      "execution_count": 117,
      "outputs": [
        {
          "output_type": "execute_result",
          "data": {
            "text/plain": [
              "[<matplotlib.lines.Line2D at 0x7fabddfa7610>]"
            ]
          },
          "metadata": {},
          "execution_count": 117
        },
        {
          "output_type": "display_data",
          "data": {
            "text/plain": [
              "<Figure size 432x288 with 1 Axes>"
            ],
            "image/png": "[encoded data removed]"
          },
          "metadata": {
            "needs_background": "light"
          }
        }
      ]
    },
    {
      "cell_type": "code",
      "source": [
        "# Problem 1c\n",
        "x1_0 = 2\n",
        "x2_0 = 2\n",
        "dt = 0.01\n",
        "t = np.arange(3000)\n",
        "r = 3 + np.sin(0.12*np.pi*t*dt)\n",
        "\n",
        "u = np.ones(3000)\n",
        "x1 = get_trajectory_x1(u, x1_0,dt)\n",
        "x2 = get_trajectory_x2(x1, x2_0, dt)\n",
        "# plt.plot(x1)\n",
        "# plt.plot(x2)\n",
        "# p1 = get_p(x1,dt)\n",
        "# p2 = get_p(x2,dt)\n",
        "# plt.plot(p1)\n",
        "# plt.plot(p2)\n",
        "p1,p2 = get_p(x1,x2,r,dt)\n",
        "alpha = 1e-4\n",
        "beta = 0.5\n",
        "tol = 1e-4\n",
        "\n",
        "for j in range(20):\n",
        "  x1 = get_trajectory_x1(u,x1_0,dt)\n",
        "  x2 = get_trajectory_x2(x1,x2_0,dt)\n",
        "\n",
        "  plt.scatter(j,J(x2,r,dt))\n",
        "\n",
        "  p1,p2 = get_p(x1,x2,r,dt)\n",
        "  v_i = minimize_hamiltonian(p1,p2,x1,x2,dt)\n",
        "\n",
        "  theta_u = dt*np.sum(np.dot(p1, v_i - u))\n",
        "\n",
        "  for l in range(10):\n",
        "\n",
        "    convex_combination = (1 - beta**l)*u + (beta**l)*v_i\n",
        "\n",
        "    x1_temp = get_trajectory_x1(convex_combination,x1_0,dt)\n",
        "    x2_temp = get_trajectory_x2(x1_temp,x2_0,dt)\n",
        "    if J(x2_temp,r,dt) - J(x2,r,dt) < alpha*(beta**l)*theta_u:\n",
        "      # print(l)\n",
        "      u = convex_combination\n",
        "      # plt.plot(u)\n",
        "      beta = beta/2\n",
        "      break\n",
        "x1_fin = get_trajectory_x1(u, x1_0,dt)\n",
        "x2_fin = get_trajectory_x2(x1_fin, x2_0,dt)\n",
        "plt.figure()\n",
        "plt.plot(t,x1_fin,color='b')\n",
        "plt.plot(t,x2_fin,color='g')\n",
        "# plt.hlines(y=3.0,xmin=0,xmax=1000,colors='r')\n",
        "plt.plot(t,r,color='r')"
      ],
      "metadata": {
        "colab": {
          "base_uri": "https://localhost:8080/",
          "height": 531
        },
        "id": "40a1BJ2slFCx",
        "outputId": "9865030e-ea0b-4f34-cec4-7dd3643b6863"
      },
      "execution_count": 137,
      "outputs": [
        {
          "output_type": "execute_result",
          "data": {
            "text/plain": [
              "[<matplotlib.lines.Line2D at 0x7fabdde2e5d0>]"
            ]
          },
          "metadata": {},
          "execution_count": 137
        },
        {
          "output_type": "display_data",
          "data": {
            "text/plain": [
              "<Figure size 432x288 with 1 Axes>"
            ],
            "image/png": "[encoded data removed]"
          },
          "metadata": {
            "needs_background": "light"
          }
        },
        {
          "output_type": "display_data",
          "data": {
            "text/plain": [
              "<Figure size 432x288 with 1 Axes>"
            ],
            "image/png": "[encoded data removed]"
          },
          "metadata": {
            "needs_background": "light"
          }
        }
      ]
    },
    {
      "cell_type": "code",
      "source": [
        "plt.plot(u)"
      ],
      "metadata": {
        "colab": {
          "base_uri": "https://localhost:8080/",
          "height": 283
        },
        "id": "IkP76ixPOu9h",
        "outputId": "48632b99-e50a-47fc-b5bf-90b6077667f4"
      },
      "execution_count": 138,
      "outputs": [
        {
          "output_type": "execute_result",
          "data": {
            "text/plain": [
              "[<matplotlib.lines.Line2D at 0x7fabddc769d0>]"
            ]
          },
          "metadata": {},
          "execution_count": 138
        },
        {
          "output_type": "display_data",
          "data": {
            "text/plain": [
              "<Figure size 432x288 with 1 Axes>"
            ],
            "image/png": "[encoded data removed]"
          },
          "metadata": {
            "needs_background": "light"
          }
        }
      ]
    },
    {
      "cell_type": "code",
      "source": [
        "x_fin = get_trajectory(u,x_0,dt)"
      ],
      "metadata": {
        "id": "OeEhr2YtPKzF"
      },
      "execution_count": null,
      "outputs": []
    },
    {
      "cell_type": "code",
      "source": [
        "plt.plot(x_fin)"
      ],
      "metadata": {
        "colab": {
          "base_uri": "https://localhost:8080/",
          "height": 283
        },
        "id": "-5J0rix0PksE",
        "outputId": "a76d9ece-a6c0-4b8f-8cbb-b4da1e8cea34"
      },
      "execution_count": null,
      "outputs": [
        {
          "output_type": "execute_result",
          "data": {
            "text/plain": [
              "[<matplotlib.lines.Line2D at 0x7fbb34b93c50>]"
            ]
          },
          "metadata": {},
          "execution_count": 38
        },
        {
          "output_type": "display_data",
          "data": {
            "text/plain": [
              "<Figure size 432x288 with 1 Axes>"
            ],
            "image/png": "[encoded data removed]"
          },
          "metadata": {
            "needs_background": "light"
          }
        }
      ]
    },
    {
      "cell_type": "code",
      "source": [
        "beta**l"
      ],
      "metadata": {
        "colab": {
          "base_uri": "https://localhost:8080/"
        },
        "id": "CZsGWKO5QIzS",
        "outputId": "08acc320-8866-49ba-acd3-489785920eaa"
      },
      "execution_count": null,
      "outputs": [
        {
          "output_type": "execute_result",
          "data": {
            "text/plain": [
              "0.001953125"
            ]
          },
          "metadata": {},
          "execution_count": 28
        }
      ]
    },
    {
      "cell_type": "code",
      "source": [
        "J(get_trajectory((1 - beta**l)*u + (beta**l)*u_new,x_0,dt),r,dt) - J(x,r,dt)"
      ],
      "metadata": {
        "colab": {
          "base_uri": "https://localhost:8080/"
        },
        "id": "rixKre58ZNcu",
        "outputId": "31c15bed-5897-4f0d-d5fe-f2c7caf6f48f"
      },
      "execution_count": null,
      "outputs": [
        {
          "output_type": "execute_result",
          "data": {
            "text/plain": [
              "0.011193922073761797"
            ]
          },
          "metadata": {},
          "execution_count": 52
        }
      ]
    },
    {
      "cell_type": "code",
      "source": [
        "min_set = np.arange(1,2,0.01)\n",
        "i=0\n",
        "np.argmin(p[i]*min_set + np.sqrt(x[i]))\n"
      ],
      "metadata": {
        "colab": {
          "base_uri": "https://localhost:8080/"
        },
        "id": "6PfBjMGNdGYn",
        "outputId": "b3f0d066-7a09-4bac-efe3-782f2d2290b5"
      },
      "execution_count": null,
      "outputs": [
        {
          "output_type": "execute_result",
          "data": {
            "text/plain": [
              "99"
            ]
          },
          "metadata": {},
          "execution_count": 17
        }
      ]
    },
    {
      "cell_type": "code",
      "source": [
        "p1"
      ],
      "metadata": {
        "id": "LA6FimredLGR",
        "colab": {
          "base_uri": "https://localhost:8080/"
        },
        "outputId": "b5ba834e-1574-431e-c5e4-34245d3c15b9"
      },
      "execution_count": null,
      "outputs": [
        {
          "output_type": "execute_result",
          "data": {
            "text/plain": [
              "array([array([-12.30554748, -16.20931234, -19.56480502, ...,  -2.71033841,\n",
              "               -5.04628995,  -8.40178263])                                ,\n",
              "       array([-12.31195319, -16.21468434, -19.56928851, ...,  -2.71928488,\n",
              "               -5.05461786,  -8.40922203])                                ,\n",
              "       array([-12.31839856, -16.22009089, -19.57380213, ...,  -2.72828362,\n",
              "               -5.06299499,  -8.41670622])                                ,\n",
              "       ...,\n",
              "       array([-0.00119599, -0.00141613, -0.00160535, ..., -0.00065491,\n",
              "              -0.00078663, -0.00097585])                              ,\n",
              "       array([-0.0004    , -0.00047362, -0.00053691, ..., -0.00021903,\n",
              "              -0.00026309, -0.00032637])                              , 0],\n",
              "      dtype=object)"
            ]
          },
          "metadata": {},
          "execution_count": 106
        }
      ]
    },
    {
      "cell_type": "code",
      "source": [
        "a=1\n",
        "type(a)"
      ],
      "metadata": {
        "colab": {
          "base_uri": "https://localhost:8080/"
        },
        "id": "FpCBjt74wx1B",
        "outputId": "a48c5b94-f85c-4f34-a888-e823cd90834b"
      },
      "execution_count": 123,
      "outputs": [
        {
          "output_type": "execute_result",
          "data": {
            "text/plain": [
              "int"
            ]
          },
          "metadata": {},
          "execution_count": 123
        }
      ]
    },
    {
      "cell_type": "code",
      "source": [
        "np.sin(0.12*np.pi*30)"
      ],
      "metadata": {
        "id": "vlxQ-WYew5-S",
        "colab": {
          "base_uri": "https://localhost:8080/"
        },
        "outputId": "5d3d9976-f4a6-47f9-87aa-5821c5b309eb"
      },
      "execution_count": 135,
      "outputs": [
        {
          "output_type": "execute_result",
          "data": {
            "text/plain": [
              "-0.9510565162951538"
            ]
          },
          "metadata": {},
          "execution_count": 135
        }
      ]
    },
    {
      "cell_type": "code",
      "source": [
        "x1_0 = 2\n",
        "x2_0 = 2\n",
        "dt = 0.01\n",
        "t = np.arange(1000)\n",
        "r = 3\n",
        "\n",
        "u = np.ones(1000)\n",
        "x1 = get_trajectory_x1(u, x1_0,dt)\n",
        "x2 = get_trajectory_x2(x1, x2_0, dt)\n",
        "\n",
        "costs = []\n",
        "\n",
        "for t_1 in np.arange(0,9,0.1):\n",
        "  for t_2 in range(t_1+0.1,10):\n",
        "    for t_3 in range(t_2+1,11):\n",
        "      u = get_u(t_1,t_2,t_3,dt)\n",
        "      x1 = get_trajectory_x1(u, x1_0,dt)\n",
        "      x2 = get_trajectory_x2(x1, x2_0, dt)\n",
        "      cost = J(x2,r,dt)\n",
        "      costs.append([t_1,t_2,t_3, cost])"
      ],
      "metadata": {
        "id": "4M4QYp1Dy5-5"
      },
      "execution_count": 169,
      "outputs": []
    },
    {
      "cell_type": "code",
      "source": [
        "costs_sorted = sorted(costs,key=lambda x:x[3])"
      ],
      "metadata": {
        "id": "FvcsObSwDpcj"
      },
      "execution_count": 170,
      "outputs": []
    },
    {
      "cell_type": "code",
      "source": [
        "costs_sorted[0]"
      ],
      "metadata": {
        "colab": {
          "base_uri": "https://localhost:8080/"
        },
        "id": "HOQGgF1qD4Ff",
        "outputId": "40b9c469-55bb-4ea2-ffa2-c80b0022c5b5"
      },
      "execution_count": 171,
      "outputs": [
        {
          "output_type": "execute_result",
          "data": {
            "text/plain": [
              "[2, 4, 8, 4.865739645506476]"
            ]
          },
          "metadata": {},
          "execution_count": 171
        }
      ]
    },
    {
      "cell_type": "code",
      "source": [
        "plt.plot(x2)\n",
        "plt.hlines(3,0,1000,'r')"
      ],
      "metadata": {
        "colab": {
          "base_uri": "https://localhost:8080/",
          "height": 283
        },
        "id": "1OxfEz7UD9Rx",
        "outputId": "b07f335c-2b45-4996-d5d6-e1658bf66cdb"
      },
      "execution_count": 172,
      "outputs": [
        {
          "output_type": "execute_result",
          "data": {
            "text/plain": [
              "<matplotlib.collections.LineCollection at 0x7fabde6f0190>"
            ]
          },
          "metadata": {},
          "execution_count": 172
        },
        {
          "output_type": "display_data",
          "data": {
            "text/plain": [
              "<Figure size 432x288 with 1 Axes>"
            ],
            "image/png": "[encoded data removed]"
          },
          "metadata": {
            "needs_background": "light"
          }
        }
      ]
    },
    {
      "cell_type": "code",
      "source": [
        "plt.plot(get_single_u(5,dt))"
      ],
      "metadata": {
        "colab": {
          "base_uri": "https://localhost:8080/",
          "height": 283
        },
        "id": "8g2eMAWLFBuP",
        "outputId": "b3a4a4c0-a1a4-445e-9622-052221ca9ec4"
      },
      "execution_count": 197,
      "outputs": [
        {
          "output_type": "execute_result",
          "data": {
            "text/plain": [
              "[<matplotlib.lines.Line2D at 0x7fabdc1ffa50>]"
            ]
          },
          "metadata": {},
          "execution_count": 197
        },
        {
          "output_type": "display_data",
          "data": {
            "text/plain": [
              "<Figure size 432x288 with 1 Axes>"
            ],
            "image/png": "[encoded data removed]"
          },
          "metadata": {
            "needs_background": "light"
          }
        }
      ]
    },
    {
      "cell_type": "code",
      "source": [
        "costs = []\n",
        "for t_1 in np.arange(0,10,0.01):\n",
        "  u = get_single_u(t_1,dt)\n",
        "  x1 = get_trajectory_x1(u,x1_0,dt)\n",
        "  x2 = get_trajectory_x2(x1,x2_0,dt)\n",
        "  cost = J(x2,r,dt)\n",
        "  costs.append([t_1,cost])\n",
        "print(sorted(costs, key=lambda x:x[1])[0])\n",
        "t_min = sorted(costs, key=lambda x:x[1])[0][0]\n",
        "u = get_single_u(t_min,dt)\n",
        "x1 = get_trajectory_x1(u,x1_0,dt)\n",
        "x2 = get_trajectory_x2(x1,x2_0,dt)\n",
        "plt.plot(x2)"
      ],
      "metadata": {
        "colab": {
          "base_uri": "https://localhost:8080/",
          "height": 302
        },
        "id": "gGuimksLZOLY",
        "outputId": "51d3f55f-8fe2-4421-f786-96f642eff245"
      },
      "execution_count": 233,
      "outputs": [
        {
          "output_type": "stream",
          "name": "stdout",
          "text": [
            "[1.61, 11.45488438473011]\n"
          ]
        },
        {
          "output_type": "execute_result",
          "data": {
            "text/plain": [
              "[<matplotlib.lines.Line2D at 0x7fabdbc56190>]"
            ]
          },
          "metadata": {},
          "execution_count": 233
        },
        {
          "output_type": "display_data",
          "data": {
            "text/plain": [
              "<Figure size 432x288 with 1 Axes>"
            ],
            "image/png": "[encoded data removed]"
          },
          "metadata": {
            "needs_background": "light"
          }
        }
      ]
    },
    {
      "cell_type": "code",
      "source": [
        "plt.plot(x2)"
      ],
      "metadata": {
        "colab": {
          "base_uri": "https://localhost:8080/",
          "height": 283
        },
        "id": "dCKrBs8Sb4Gv",
        "outputId": "6049ebab-1a50-4811-a758-ba0dcb6198dc"
      },
      "execution_count": 229,
      "outputs": [
        {
          "output_type": "execute_result",
          "data": {
            "text/plain": [
              "[<matplotlib.lines.Line2D at 0x7fabdbe24b10>]"
            ]
          },
          "metadata": {},
          "execution_count": 229
        },
        {
          "output_type": "display_data",
          "data": {
            "text/plain": [
              "<Figure size 432x288 with 1 Axes>"
            ],
            "image/png": "[encoded data removed]"
          },
          "metadata": {
            "needs_background": "light"
          }
        }
      ]
    },
    {
      "cell_type": "code",
      "source": [
        ""
      ],
      "metadata": {
        "colab": {
          "base_uri": "https://localhost:8080/"
        },
        "id": "fO9WP5z-b85b",
        "outputId": "ea27946e-d32c-4c3b-f21a-c6949d904297"
      },
      "execution_count": 232,
      "outputs": [
        {
          "output_type": "execute_result",
          "data": {
            "text/plain": [
              "[[0.0, 35.51758855027392],\n",
              " [0.1, 32.89754745802376],\n",
              " [0.2, 30.38768756272799],\n",
              " [0.30000000000000004, 27.76507570900027],\n",
              " [0.4, 25.73504544286945],\n",
              " [0.5, 23.60984021322214],\n",
              " [0.6000000000000001, 21.440284529774495],\n",
              " [0.7000000000000001, 19.803506032904668],\n",
              " [0.8, 18.13826109136968],\n",
              " [0.9, 16.641735563638836],\n",
              " [1.0, 15.321136252440857],\n",
              " [1.1, 14.183364947449693],\n",
              " [1.2000000000000002, 13.150837800597529],\n",
              " [1.3, 12.482343397295182],\n",
              " [1.4000000000000001, 11.931301127700909],\n",
              " [1.5, 11.587483892506553],\n",
              " [1.6, 11.456141175965392],\n",
              " [1.7000000000000002, 11.56289497090821],\n",
              " [1.8, 11.85005766494948],\n",
              " [1.9000000000000001, 12.38395970757526],\n",
              " [2.0, 13.147596354101402],\n",
              " [2.1, 14.14428438868963],\n",
              " [2.2, 15.376914458961275],\n",
              " [2.3000000000000003, 16.847937299519664],\n",
              " [2.4000000000000004, 18.743775660373],\n",
              " [2.5, 20.51268204806737],\n",
              " [2.6, 22.708982457379612],\n",
              " [2.7, 25.148806134440264],\n",
              " [2.8000000000000003, 27.832201582652132],\n",
              " [2.9000000000000004, 31.06468537775747],\n",
              " [3.0, 33.92729847173382],\n",
              " [3.1, 37.3364607618298],\n",
              " [3.2, 40.98409674615321],\n",
              " [3.3000000000000003, 44.86755966770361],\n",
              " [3.4000000000000004, 49.40789888629117],\n",
              " [3.5, 53.32854896867719],\n",
              " [3.6, 57.8979353042995],\n",
              " [3.7, 62.68686099482091],\n",
              " [3.8000000000000003, 67.68981044671906],\n",
              " [3.9000000000000004, 73.43296051454342],\n",
              " [4.0, 78.3128225405054],\n",
              " [4.1000000000000005, 84.48995458905586],\n",
              " [4.2, 89.71130310163515],\n",
              " [4.3, 95.6814585640294],\n",
              " [4.4, 101.82050463512324],\n",
              " [4.5, 108.11897380441808],\n",
              " [4.6000000000000005, 114.56687213254902],\n",
              " [4.7, 121.15369496495975],\n",
              " [4.800000000000001, 128.54651817755624],\n",
              " [4.9, 134.69965154579174],\n",
              " [5.0, 141.63539461549306],\n",
              " [5.1000000000000005, 148.66332786602953],\n",
              " [5.2, 155.77070642997026],\n",
              " [5.300000000000001, 163.66492005914915],\n",
              " [5.4, 170.17100470031653],\n",
              " [5.5, 177.4367166335434],\n",
              " [5.6000000000000005, 184.7275286824006],\n",
              " [5.7, 192.02918898214273],\n",
              " [5.800000000000001, 200.05630690857186],\n",
              " [5.9, 206.60715186628542],\n",
              " [6.0, 213.85418802815298],\n",
              " [6.1000000000000005, 221.0536330948526],\n",
              " [6.2, 228.19075291895024],\n",
              " [6.300000000000001, 235.95207812264357],\n",
              " [6.4, 242.21939175909037],\n",
              " [6.5, 249.08191880566432],\n",
              " [6.6000000000000005, 255.8242510982368],\n",
              " [6.7, 262.4324739016696],\n",
              " [6.800000000000001, 269.530434892048],\n",
              " [6.9, 275.19270397636376],\n",
              " [7.0, 281.31884459376346],\n",
              " [7.1000000000000005, 287.2592728205365],\n",
              " [7.2, 293.00242762363996],\n",
              " [7.300000000000001, 299.07907030847804],\n",
              " [7.4, 303.8540912312476],\n",
              " [7.5, 308.94310216359554],\n",
              " [7.6000000000000005, 313.79598193213394],\n",
              " [7.7, 318.40520721231604],\n",
              " [7.800000000000001, 323.18619742412164],\n",
              " [7.9, 326.8677403184478],\n",
              " [8.0, 330.7113442225914],\n",
              " [8.1, 334.2920188933476],\n",
              " [8.200000000000001, 337.9249906759766],\n",
              " [8.3, 340.65879460133135],\n",
              " [8.4, 343.44541764805217],\n",
              " [8.5, 345.97027243791],\n",
              " [8.6, 348.23729272347134],\n",
              " [8.700000000000001, 350.25197511642006],\n",
              " [8.8, 352.0214249231622],\n",
              " [8.9, 353.55439723029554],\n",
              " [9.0, 354.8613326928355],\n",
              " [9.1, 355.9543874500445],\n",
              " [9.200000000000001, 356.8474565644624],\n",
              " [9.3, 357.5561903491531],\n",
              " [9.4, 358.09800291611646],\n",
              " [9.5, 358.49207224510536],\n",
              " [9.600000000000001, 358.7799401721299],\n",
              " [9.700000000000001, 358.92244757441017],\n",
              " [9.8, 359.00579578565123],\n",
              " [9.9, 359.03541363869397]]"
            ]
          },
          "metadata": {},
          "execution_count": 232
        }
      ]
    },
    {
      "cell_type": "code",
      "source": [
        ""
      ],
      "metadata": {
        "id": "K0TJESCIcAZ0"
      },
      "execution_count": null,
      "outputs": []
    }
  ]
}