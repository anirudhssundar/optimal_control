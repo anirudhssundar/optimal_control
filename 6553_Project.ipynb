{
  "nbformat": 4,
  "nbformat_minor": 0,
  "metadata": {
    "colab": {
      "name": "6553_Project.ipynb",
      "provenance": [],
      "collapsed_sections": [],
      "authorship_tag": "ABX9TyNeisWKmg3H9dtpZI2QhbMk",
      "include_colab_link": true
    },
    "kernelspec": {
      "name": "python3",
      "display_name": "Python 3"
    },
    "language_info": {
      "name": "python"
    }
  },
  "cells": [
    {
      "cell_type": "markdown",
      "metadata": {
        "id": "view-in-github",
        "colab_type": "text"
      },
      "source": [
        "<a href=\"https://colab.research.google.com/github/anirudhssundar/optimal_control/blob/main/6553_Project.ipynb\" target=\"_parent\"><img src=\"https://colab.research.google.com/assets/colab-badge.svg\" alt=\"Open In Colab\"/></a>"
      ]
    },
    {
      "cell_type": "code",
      "execution_count": 35,
      "metadata": {
        "id": "775uZfaa2xvx"
      },
      "outputs": [],
      "source": [
        "import numpy as np\n",
        "import matplotlib.pyplot as plt"
      ]
    },
    {
      "cell_type": "code",
      "source": [
        "def get_p(x1,x2,r,dt):\n",
        "  # p = [x[-1]]\n",
        "\n",
        "  \n",
        "\n",
        "  p1 = [0]\n",
        "  p2 = [0]\n",
        "  x1_rev = x1[::-1]\n",
        "  x2_rev = x2[::-1]\n",
        "  for i in range(1,len(x1)):\n",
        "    # p_t_minus_dt = p[-1]*(1-dt) + 2*x_rev[i]*dt\n",
        "    p2_t_minus_dt = p2[-1] - dt*(p2[-1]/(2*np.sqrt(x2_rev[i])) - 4*(x2_rev[i]-r))\n",
        "    p2.append(p2_t_minus_dt)\n",
        "\n",
        "    p1_t_minus_dt = p1[-1] - dt*(p1[-1]/(2*np.sqrt(x1_rev[i])) - p2[-1]/(2*np.sqrt(x1_rev[i])))\n",
        "    p1.append(p1_t_minus_dt)\n",
        "  return np.array(p1[::-1]), np.array(p2[::-1])"
      ],
      "metadata": {
        "id": "VEy_5HR522H2"
      },
      "execution_count": 36,
      "outputs": []
    },
    {
      "cell_type": "code",
      "source": [
        "def get_u(t1,t2,dt):\n",
        "  t = np.arange(1000)\n",
        "  dynu = []\n",
        "  for i,foo in enumerate(t):\n",
        "    if foo*dt < t1:\n",
        "      dynu.append(2)\n",
        "    elif (foo*dt>=t1) and (foo*dt<t2):\n",
        "      dynu.append(1)\n",
        "    else:\n",
        "      dynu.append(2)\n",
        "  return dynu"
      ],
      "metadata": {
        "id": "9xjFxh6fwrBN"
      },
      "execution_count": 37,
      "outputs": []
    },
    {
      "cell_type": "code",
      "source": [
        "def J(x,r,dt):\n",
        "  val = 2*np.sum((x - r)**2)*dt\n",
        "  return val"
      ],
      "metadata": {
        "id": "x27y6rSbsg7k"
      },
      "execution_count": 38,
      "outputs": []
    },
    {
      "cell_type": "code",
      "source": [
        "def J_vec(x,r,dt):\n",
        "  val = 2*np.sum((x))"
      ],
      "metadata": {
        "id": "OK5AEReFwcwV"
      },
      "execution_count": null,
      "outputs": []
    },
    {
      "cell_type": "code",
      "source": [
        "def dyn_u(t1,t2,dt):\n",
        "  dynu = get_u(t1,t2,dt)\n",
        "  dynx = get_trajectory(dynu,1.5,dt)\n",
        "  cost = J(dynx,2.5,dt)\n",
        "  return cost"
      ],
      "metadata": {
        "id": "kYCBwkYqs53-"
      },
      "execution_count": 39,
      "outputs": []
    },
    {
      "cell_type": "code",
      "source": [
        "def get_trajectory_x1(u,x1_0,dt):\n",
        "  x = x1_0\n",
        "  x_fin = []\n",
        "  x_fin.append(x1_0)\n",
        "  for i in u:\n",
        "    x_dot = -np.sqrt(x) + i\n",
        "    x_new = x_dot*dt + x\n",
        "    x_fin.append(x_new)\n",
        "    x = x_new \n",
        "  return np.array(x_fin[:-1])"
      ],
      "metadata": {
        "id": "JX2ssEd24Fx8"
      },
      "execution_count": 40,
      "outputs": []
    },
    {
      "cell_type": "code",
      "source": [
        "def get_trajectory_x2(x1,x2_0,dt):\n",
        "  x = x2_0\n",
        "  x_fin = []\n",
        "  x_fin.append(x2_0)\n",
        "  for i in x1:\n",
        "    x_dot = -np.sqrt(x) + i\n",
        "    x_new = x_dot*dt + x\n",
        "    x_fin.append(x_new)\n",
        "    x = x_new \n",
        "  return np.array(x_fin[:-1])"
      ],
      "metadata": {
        "id": "QW9y1Y6hUIax"
      },
      "execution_count": 41,
      "outputs": []
    },
    {
      "cell_type": "code",
      "source": [
        "def minimize_hamiltonian(p1,p2,x1,x2,dt):\n",
        "  conv_u = np.arange(1,2,0.01)\n",
        "  # minimize p1f1 + p2f2 +L -> same as minimizing p1f1 since u doesnt appear in f2\n",
        "  v_i = []\n",
        "  for i in range(len(p1)):\n",
        "    min_index = np.argmin(p1[i]*(conv_u-np.sqrt(x1[i])))\n",
        "    v_i.append(conv_u[min_index])\n",
        "  return np.array(v_i)"
      ],
      "metadata": {
        "id": "t-VXC0Mjbz2t"
      },
      "execution_count": 42,
      "outputs": []
    },
    {
      "cell_type": "code",
      "source": [
        "x_0 = 1.5\n",
        "# t = 10\n",
        "r = 2.5\n",
        "t = np.arange(1000)\n",
        "dt = 0.01\n",
        "alpha=0.2\n",
        "beta=0.5\n",
        "tol = 1e-4\n",
        "\n",
        "# for split in np.arange(5,7):\n",
        "t_1 = 3\n",
        "t_2 = 9\n",
        "\n",
        "u = get_u(t_1,t_2,dt)\n",
        "x = np.array(get_trajectory(u,x_0,dt))\n",
        "p = get_p(x,dt)\n",
        "iters = 0\n",
        "\n",
        "# ARMIJO STUFF\n",
        "if abs(p[int(t_1*dt)])<tol:\n",
        "  print(\"done\")\n",
        "else:\n",
        "  while abs(p[int(t_1*dt)])>tol:\n",
        "    if iters==8:\n",
        "      break\n",
        "    k=0\n",
        "    while dyn_u(t_1 - (beta**k)*p[int(t_1*dt)],t_2,dt) > dyn_u(t_1,t_2,dt) -alpha*(beta**k)*(p[int(t_1*dt)]**2):\n",
        "      k+=1\n",
        "      # print(k)\n",
        "      # print(dyn_u(t_1 - (beta**k)*p[int(t_1*dt)],dt))\n",
        "\n",
        "      if k==20:\n",
        "        break\n",
        "    lambd = -(beta**k)/(beta**2)\n",
        "    # beta = beta*2\n",
        "    t_1 = t_1 + lambd*p[int(t_1*dt)]\n",
        "    plt.scatter(iters, dyn_u(t_1,t_2,dt))\n",
        "    print(\"t changed\",t_1)\n",
        "\n",
        "    u_new = get_u(t_1,t_2,dt)\n",
        "    x_new = get_trajectory(u_new, x_0,dt)\n",
        "    p = get_p(x_new,dt)\n",
        "    iters+=1\n",
        "\n",
        "\n",
        "alpha=0.2\n",
        "beta=0.5\n",
        "iters=0\n",
        "if abs(p[int(t_2*dt)])<tol:\n",
        "  print(\"done\")\n",
        "else:\n",
        "  while abs(p[int(t_2*dt)])>tol:\n",
        "    if iters==8:\n",
        "      break\n",
        "    k=0\n",
        "    while dyn_u(t_1,t_2 - (beta**k)*p[int(t_2*dt)],dt) > dyn_u(t_1,t_2,dt) -alpha*(beta**k)*(p[int(t_2*dt)]**2):\n",
        "      k+=1\n",
        "      # print(k)\n",
        "      # print(dyn_u(t_1 - (beta**k)*p[int(t_1*dt)],dt))\n",
        "\n",
        "      if k==10:\n",
        "        break\n",
        "    lambd = -(beta**k)/(beta**2)\n",
        "    # beta = beta*2\n",
        "    t_2 = t_2 + lambd*p[int(t_2*dt)]\n",
        "    plt.scatter(iters, dyn_u(t_1,t_2,dt))\n",
        "    print(\"t changed\",t_2)\n",
        "\n",
        "    u_new = get_u(t_1,t_2,dt)\n",
        "    x_new = get_trajectory(u_new, x_0,dt)\n",
        "    p = get_p(x_new,dt)\n",
        "    iters+=1\n",
        "#  J = 0.5*np.sum((x - r)**2)*dt\n",
        "  # print(split, J)\n",
        "print(t_1)\n",
        "print(t_2)\n",
        "fin_u = get_u(t_1,t_2,dt)\n",
        "fin_x = np.array(get_trajectory(fin_u,x_0,dt))\n",
        "fin_p = get_p(fin_x,dt)\n",
        "fin_cost = J(fin_x, r, dt)\n",
        "print(fin_cost)"
      ],
      "metadata": {
        "colab": {
          "base_uri": "https://localhost:8080/",
          "height": 246
        },
        "id": "nmMw2nDH4VUl",
        "outputId": "b219ea94-25b1-48aa-ffa7-c1ed79944a59"
      },
      "execution_count": 43,
      "outputs": [
        {
          "output_type": "error",
          "ename": "NameError",
          "evalue": "ignored",
          "traceback": [
            "\u001b[0;31m---------------------------------------------------------------------------\u001b[0m",
            "\u001b[0;31mNameError\u001b[0m                                 Traceback (most recent call last)",
            "\u001b[0;32m<ipython-input-43-80c57ecdcce0>\u001b[0m in \u001b[0;36m<module>\u001b[0;34m()\u001b[0m\n\u001b[1;32m     13\u001b[0m \u001b[0;34m\u001b[0m\u001b[0m\n\u001b[1;32m     14\u001b[0m \u001b[0mu\u001b[0m \u001b[0;34m=\u001b[0m \u001b[0mget_u\u001b[0m\u001b[0;34m(\u001b[0m\u001b[0mt_1\u001b[0m\u001b[0;34m,\u001b[0m\u001b[0mt_2\u001b[0m\u001b[0;34m,\u001b[0m\u001b[0mdt\u001b[0m\u001b[0;34m)\u001b[0m\u001b[0;34m\u001b[0m\u001b[0;34m\u001b[0m\u001b[0m\n\u001b[0;32m---> 15\u001b[0;31m \u001b[0mx\u001b[0m \u001b[0;34m=\u001b[0m \u001b[0mnp\u001b[0m\u001b[0;34m.\u001b[0m\u001b[0marray\u001b[0m\u001b[0;34m(\u001b[0m\u001b[0mget_trajectory\u001b[0m\u001b[0;34m(\u001b[0m\u001b[0mu\u001b[0m\u001b[0;34m,\u001b[0m\u001b[0mx_0\u001b[0m\u001b[0;34m,\u001b[0m\u001b[0mdt\u001b[0m\u001b[0;34m)\u001b[0m\u001b[0;34m)\u001b[0m\u001b[0;34m\u001b[0m\u001b[0;34m\u001b[0m\u001b[0m\n\u001b[0m\u001b[1;32m     16\u001b[0m \u001b[0mp\u001b[0m \u001b[0;34m=\u001b[0m \u001b[0mget_p\u001b[0m\u001b[0;34m(\u001b[0m\u001b[0mx\u001b[0m\u001b[0;34m,\u001b[0m\u001b[0mdt\u001b[0m\u001b[0;34m)\u001b[0m\u001b[0;34m\u001b[0m\u001b[0;34m\u001b[0m\u001b[0m\n\u001b[1;32m     17\u001b[0m \u001b[0miters\u001b[0m \u001b[0;34m=\u001b[0m \u001b[0;36m0\u001b[0m\u001b[0;34m\u001b[0m\u001b[0;34m\u001b[0m\u001b[0m\n",
            "\u001b[0;31mNameError\u001b[0m: name 'get_trajectory' is not defined"
          ]
        }
      ]
    },
    {
      "cell_type": "code",
      "source": [
        "# Project\n",
        "x1_0 = 2\n",
        "x2_0 = 2\n",
        "dt = 0.01\n",
        "t = np.arange(1000)\n",
        "r = 3\n",
        "\n",
        "u = np.ones(1000)\n",
        "x1 = get_trajectory_x1(u, x1_0,dt)\n",
        "x2 = get_trajectory_x2(x1, x2_0, dt)\n",
        "# plt.plot(x1)\n",
        "# plt.plot(x2)\n",
        "# p1 = get_p(x1,dt)\n",
        "# p2 = get_p(x2,dt)\n",
        "# plt.plot(p1)\n",
        "# plt.plot(p2)\n",
        "p1,p2 = get_p(x1,x2,r,dt)\n",
        "alpha = 1e-4\n",
        "beta = 0.5\n",
        "tol = 1e-4\n",
        "\n",
        "for j in range(20):\n",
        "  x1 = get_trajectory_x1(u,x1_0,dt)\n",
        "  x2 = get_trajectory_x2(x1,x2_0,dt)\n",
        "\n",
        "  plt.scatter(j,J(x2,r,dt))\n",
        "\n",
        "  p1,p2 = get_p(x1,x2,r,dt)\n",
        "  v_i = minimize_hamiltonian(p1,p2,x1,x2,dt)\n",
        "\n",
        "  theta_u = dt*np.sum(np.dot(p1, v_i - u))\n",
        "\n",
        "  for l in range(10):\n",
        "\n",
        "    convex_combination = (1 - beta**l)*u + (beta**l)*v_i\n",
        "\n",
        "    x1_temp = get_trajectory_x1(convex_combination,x1_0,dt)\n",
        "    x2_temp = get_trajectory_x2(x1_temp,x2_0,dt)\n",
        "    if J(x2_temp,r,dt) - J(x2,r,dt) < alpha*(beta**l)*theta_u:\n",
        "      # print(l)\n",
        "      u = convex_combination\n",
        "      # plt.plot(u)\n",
        "      beta = beta/2\n",
        "      break\n",
        "x1_fin = get_trajectory_x1(u, x1_0,dt)\n",
        "x2_fin = get_trajectory_x2(x1_fin, x2_0,dt)\n",
        "plt.figure()\n",
        "plt.plot(t,x1_fin,color='b')\n",
        "plt.plot(t,x2_fin,color='g')\n",
        "plt.hlines(y=3.0,xmin=0,xmax=1000,colors='r')"
      ],
      "metadata": {
        "colab": {
          "base_uri": "https://localhost:8080/",
          "height": 531
        },
        "id": "gmEL1XxraBV6",
        "outputId": "e336814c-e4eb-41e7-b5ae-da2c90c593a2"
      },
      "execution_count": 85,
      "outputs": [
        {
          "output_type": "execute_result",
          "data": {
            "text/plain": [
              "<matplotlib.collections.LineCollection at 0x7fabdea20350>"
            ]
          },
          "metadata": {},
          "execution_count": 85
        },
        {
          "output_type": "display_data",
          "data": {
            "text/plain": [
              "<Figure size 432x288 with 1 Axes>"
            ],
            "image/png": "[encoded data removed]"
          },
          "metadata": {
            "needs_background": "light"
          }
        },
        {
          "output_type": "display_data",
          "data": {
            "text/plain": [
              "<Figure size 432x288 with 1 Axes>"
            ],
            "image/png": "[encoded data removed]"
          },
          "metadata": {
            "needs_background": "light"
          }
        }
      ]
    },
    {
      "cell_type": "code",
      "source": [
        "plt.plot(u[:-1])"
      ],
      "metadata": {
        "colab": {
          "base_uri": "https://localhost:8080/",
          "height": 283
        },
        "id": "ALHQlW7veu5w",
        "outputId": "38690eb4-71c3-4b3f-d3ed-c037364fbf74"
      },
      "execution_count": 88,
      "outputs": [
        {
          "output_type": "execute_result",
          "data": {
            "text/plain": [
              "[<matplotlib.lines.Line2D at 0x7fabde94f610>]"
            ]
          },
          "metadata": {},
          "execution_count": 88
        },
        {
          "output_type": "display_data",
          "data": {
            "text/plain": [
              "<Figure size 432x288 with 1 Axes>"
            ],
            "image/png": "[encoded data removed]"
          },
          "metadata": {
            "needs_background": "light"
          }
        }
      ]
    },
    {
      "cell_type": "code",
      "source": [
        "# Problem 1c\n",
        "x1_0 = 2\n",
        "x2_0 = 2\n",
        "dt = 0.01\n",
        "t = np.arange(3000)\n",
        "r = 3 + np.sin(0.12*np.pi*t)\n",
        "\n",
        "u = np.ones(3000)\n",
        "x1 = get_trajectory_x1(u, x1_0,dt)\n",
        "x2 = get_trajectory_x2(x1, x2_0, dt)\n",
        "# plt.plot(x1)\n",
        "# plt.plot(x2)\n",
        "# p1 = get_p(x1,dt)\n",
        "# p2 = get_p(x2,dt)\n",
        "# plt.plot(p1)\n",
        "# plt.plot(p2)\n",
        "p1,p2 = get_p(x1,x2,r,dt)\n",
        "alpha = 1e-4\n",
        "beta = 0.5\n",
        "tol = 1e-4\n",
        "\n",
        "for j in range(20):\n",
        "  x1 = get_trajectory_x1(u,x1_0,dt)\n",
        "  x2 = get_trajectory_x2(x1,x2_0,dt)\n",
        "\n",
        "  plt.scatter(j,J(x2,r,dt))\n",
        "\n",
        "  p1,p2 = get_p(x1,x2,r,dt)\n",
        "  v_i = minimize_hamiltonian(p1,p2,x1,x2,dt)\n",
        "\n",
        "  theta_u = dt*np.sum(np.dot(p1, v_i - u))\n",
        "\n",
        "  for l in range(10):\n",
        "\n",
        "    convex_combination = (1 - beta**l)*u + (beta**l)*v_i\n",
        "\n",
        "    x1_temp = get_trajectory_x1(convex_combination,x1_0,dt)\n",
        "    x2_temp = get_trajectory_x2(x1_temp,x2_0,dt)\n",
        "    if J(x2_temp,r,dt) - J(x2,r,dt) < alpha*(beta**l)*theta_u:\n",
        "      # print(l)\n",
        "      u = convex_combination\n",
        "      # plt.plot(u)\n",
        "      beta = beta/2\n",
        "      break\n",
        "x1_fin = get_trajectory_x1(u, x1_0,dt)\n",
        "x2_fin = get_trajectory_x2(x1_fin, x2_0,dt)\n",
        "plt.figure()\n",
        "plt.plot(t,x1_fin,color='b')\n",
        "plt.plot(t,x2_fin,color='g')\n",
        "plt.hlines(y=3.0,xmin=0,xmax=1000,colors='r')"
      ],
      "metadata": {
        "colab": {
          "base_uri": "https://localhost:8080/",
          "height": 680
        },
        "id": "40a1BJ2slFCx",
        "outputId": "5bfe06f2-dc8f-481b-eac2-ffaf31e62b9a"
      },
      "execution_count": 91,
      "outputs": [
        {
          "output_type": "stream",
          "name": "stderr",
          "text": [
            "/usr/local/lib/python3.7/dist-packages/ipykernel_launcher.py:14: VisibleDeprecationWarning: Creating an ndarray from ragged nested sequences (which is a list-or-tuple of lists-or-tuples-or ndarrays with different lengths or shapes) is deprecated. If you meant to do this, you must specify 'dtype=object' when creating the ndarray.\n",
            "  \n"
          ]
        },
        {
          "output_type": "error",
          "ename": "ValueError",
          "evalue": "ignored",
          "traceback": [
            "\u001b[0;31m---------------------------------------------------------------------------\u001b[0m",
            "\u001b[0;31mValueError\u001b[0m                                Traceback (most recent call last)",
            "\u001b[0;32m<ipython-input-91-be45eb39121e>\u001b[0m in \u001b[0;36m<module>\u001b[0;34m()\u001b[0m\n\u001b[1;32m     27\u001b[0m \u001b[0;34m\u001b[0m\u001b[0m\n\u001b[1;32m     28\u001b[0m   \u001b[0mp1\u001b[0m\u001b[0;34m,\u001b[0m\u001b[0mp2\u001b[0m \u001b[0;34m=\u001b[0m \u001b[0mget_p\u001b[0m\u001b[0;34m(\u001b[0m\u001b[0mx1\u001b[0m\u001b[0;34m,\u001b[0m\u001b[0mx2\u001b[0m\u001b[0;34m,\u001b[0m\u001b[0mr\u001b[0m\u001b[0;34m,\u001b[0m\u001b[0mdt\u001b[0m\u001b[0;34m)\u001b[0m\u001b[0;34m\u001b[0m\u001b[0;34m\u001b[0m\u001b[0m\n\u001b[0;32m---> 29\u001b[0;31m   \u001b[0mv_i\u001b[0m \u001b[0;34m=\u001b[0m \u001b[0mminimize_hamiltonian\u001b[0m\u001b[0;34m(\u001b[0m\u001b[0mp1\u001b[0m\u001b[0;34m,\u001b[0m\u001b[0mp2\u001b[0m\u001b[0;34m,\u001b[0m\u001b[0mx1\u001b[0m\u001b[0;34m,\u001b[0m\u001b[0mx2\u001b[0m\u001b[0;34m,\u001b[0m\u001b[0mdt\u001b[0m\u001b[0;34m)\u001b[0m\u001b[0;34m\u001b[0m\u001b[0;34m\u001b[0m\u001b[0m\n\u001b[0m\u001b[1;32m     30\u001b[0m \u001b[0;34m\u001b[0m\u001b[0m\n\u001b[1;32m     31\u001b[0m   \u001b[0mtheta_u\u001b[0m \u001b[0;34m=\u001b[0m \u001b[0mdt\u001b[0m\u001b[0;34m*\u001b[0m\u001b[0mnp\u001b[0m\u001b[0;34m.\u001b[0m\u001b[0msum\u001b[0m\u001b[0;34m(\u001b[0m\u001b[0mnp\u001b[0m\u001b[0;34m.\u001b[0m\u001b[0mdot\u001b[0m\u001b[0;34m(\u001b[0m\u001b[0mp1\u001b[0m\u001b[0;34m,\u001b[0m \u001b[0mv_i\u001b[0m \u001b[0;34m-\u001b[0m \u001b[0mu\u001b[0m\u001b[0;34m)\u001b[0m\u001b[0;34m)\u001b[0m\u001b[0;34m\u001b[0m\u001b[0;34m\u001b[0m\u001b[0m\n",
            "\u001b[0;32m<ipython-input-42-3203eece90f3>\u001b[0m in \u001b[0;36mminimize_hamiltonian\u001b[0;34m(p1, p2, x1, x2, dt)\u001b[0m\n\u001b[1;32m      4\u001b[0m   \u001b[0mv_i\u001b[0m \u001b[0;34m=\u001b[0m \u001b[0;34m[\u001b[0m\u001b[0;34m]\u001b[0m\u001b[0;34m\u001b[0m\u001b[0;34m\u001b[0m\u001b[0m\n\u001b[1;32m      5\u001b[0m   \u001b[0;32mfor\u001b[0m \u001b[0mi\u001b[0m \u001b[0;32min\u001b[0m \u001b[0mrange\u001b[0m\u001b[0;34m(\u001b[0m\u001b[0mlen\u001b[0m\u001b[0;34m(\u001b[0m\u001b[0mp1\u001b[0m\u001b[0;34m)\u001b[0m\u001b[0;34m)\u001b[0m\u001b[0;34m:\u001b[0m\u001b[0;34m\u001b[0m\u001b[0;34m\u001b[0m\u001b[0m\n\u001b[0;32m----> 6\u001b[0;31m     \u001b[0mmin_index\u001b[0m \u001b[0;34m=\u001b[0m \u001b[0mnp\u001b[0m\u001b[0;34m.\u001b[0m\u001b[0margmin\u001b[0m\u001b[0;34m(\u001b[0m\u001b[0mp1\u001b[0m\u001b[0;34m[\u001b[0m\u001b[0mi\u001b[0m\u001b[0;34m]\u001b[0m\u001b[0;34m*\u001b[0m\u001b[0;34m(\u001b[0m\u001b[0mconv_u\u001b[0m\u001b[0;34m-\u001b[0m\u001b[0mnp\u001b[0m\u001b[0;34m.\u001b[0m\u001b[0msqrt\u001b[0m\u001b[0;34m(\u001b[0m\u001b[0mx1\u001b[0m\u001b[0;34m[\u001b[0m\u001b[0mi\u001b[0m\u001b[0;34m]\u001b[0m\u001b[0;34m)\u001b[0m\u001b[0;34m)\u001b[0m\u001b[0;34m)\u001b[0m\u001b[0;34m\u001b[0m\u001b[0;34m\u001b[0m\u001b[0m\n\u001b[0m\u001b[1;32m      7\u001b[0m     \u001b[0mv_i\u001b[0m\u001b[0;34m.\u001b[0m\u001b[0mappend\u001b[0m\u001b[0;34m(\u001b[0m\u001b[0mconv_u\u001b[0m\u001b[0;34m[\u001b[0m\u001b[0mmin_index\u001b[0m\u001b[0;34m]\u001b[0m\u001b[0;34m)\u001b[0m\u001b[0;34m\u001b[0m\u001b[0;34m\u001b[0m\u001b[0m\n\u001b[1;32m      8\u001b[0m   \u001b[0;32mreturn\u001b[0m \u001b[0mnp\u001b[0m\u001b[0;34m.\u001b[0m\u001b[0marray\u001b[0m\u001b[0;34m(\u001b[0m\u001b[0mv_i\u001b[0m\u001b[0;34m)\u001b[0m\u001b[0;34m\u001b[0m\u001b[0;34m\u001b[0m\u001b[0m\n",
            "\u001b[0;31mValueError\u001b[0m: operands could not be broadcast together with shapes (3000,) (100,) "
          ]
        },
        {
          "output_type": "display_data",
          "data": {
            "text/plain": [
              "<Figure size 432x288 with 1 Axes>"
            ],
            "image/png": "[encoded data removed]"
          },
          "metadata": {
            "needs_background": "light"
          }
        }
      ]
    },
    {
      "cell_type": "code",
      "source": [
        "plt.plot(u)"
      ],
      "metadata": {
        "colab": {
          "base_uri": "https://localhost:8080/",
          "height": 283
        },
        "id": "IkP76ixPOu9h",
        "outputId": "f6fde143-91ed-4128-cb57-4add462d6385"
      },
      "execution_count": null,
      "outputs": [
        {
          "output_type": "execute_result",
          "data": {
            "text/plain": [
              "[<matplotlib.lines.Line2D at 0x7fbb34f14110>]"
            ]
          },
          "metadata": {},
          "execution_count": 35
        },
        {
          "output_type": "display_data",
          "data": {
            "text/plain": [
              "<Figure size 432x288 with 1 Axes>"
            ],
            "image/png": "[encoded data removed]"
          },
          "metadata": {
            "needs_background": "light"
          }
        }
      ]
    },
    {
      "cell_type": "code",
      "source": [
        "x_fin = get_trajectory(u,x_0,dt)"
      ],
      "metadata": {
        "id": "OeEhr2YtPKzF"
      },
      "execution_count": null,
      "outputs": []
    },
    {
      "cell_type": "code",
      "source": [
        "plt.plot(x_fin)"
      ],
      "metadata": {
        "colab": {
          "base_uri": "https://localhost:8080/",
          "height": 283
        },
        "id": "-5J0rix0PksE",
        "outputId": "a76d9ece-a6c0-4b8f-8cbb-b4da1e8cea34"
      },
      "execution_count": null,
      "outputs": [
        {
          "output_type": "execute_result",
          "data": {
            "text/plain": [
              "[<matplotlib.lines.Line2D at 0x7fbb34b93c50>]"
            ]
          },
          "metadata": {},
          "execution_count": 38
        },
        {
          "output_type": "display_data",
          "data": {
            "text/plain": [
              "<Figure size 432x288 with 1 Axes>"
            ],
            "image/png": "[encoded data removed]"
          },
          "metadata": {
            "needs_background": "light"
          }
        }
      ]
    },
    {
      "cell_type": "code",
      "source": [
        "beta**l"
      ],
      "metadata": {
        "colab": {
          "base_uri": "https://localhost:8080/"
        },
        "id": "CZsGWKO5QIzS",
        "outputId": "08acc320-8866-49ba-acd3-489785920eaa"
      },
      "execution_count": null,
      "outputs": [
        {
          "output_type": "execute_result",
          "data": {
            "text/plain": [
              "0.001953125"
            ]
          },
          "metadata": {},
          "execution_count": 28
        }
      ]
    },
    {
      "cell_type": "code",
      "source": [
        "J(get_trajectory((1 - beta**l)*u + (beta**l)*u_new,x_0,dt),r,dt) - J(x,r,dt)"
      ],
      "metadata": {
        "colab": {
          "base_uri": "https://localhost:8080/"
        },
        "id": "rixKre58ZNcu",
        "outputId": "31c15bed-5897-4f0d-d5fe-f2c7caf6f48f"
      },
      "execution_count": null,
      "outputs": [
        {
          "output_type": "execute_result",
          "data": {
            "text/plain": [
              "0.011193922073761797"
            ]
          },
          "metadata": {},
          "execution_count": 52
        }
      ]
    },
    {
      "cell_type": "code",
      "source": [
        "min_set = np.arange(1,2,0.01)\n",
        "i=0\n",
        "np.argmin(p[i]*min_set + np.sqrt(x[i]))\n"
      ],
      "metadata": {
        "colab": {
          "base_uri": "https://localhost:8080/"
        },
        "id": "6PfBjMGNdGYn",
        "outputId": "b3f0d066-7a09-4bac-efe3-782f2d2290b5"
      },
      "execution_count": null,
      "outputs": [
        {
          "output_type": "execute_result",
          "data": {
            "text/plain": [
              "99"
            ]
          },
          "metadata": {},
          "execution_count": 17
        }
      ]
    },
    {
      "cell_type": "code",
      "source": [
        ""
      ],
      "metadata": {
        "id": "LA6FimredLGR",
        "colab": {
          "base_uri": "https://localhost:8080/"
        },
        "outputId": "0f8f5ff0-c74d-4811-d911-65674847bb9b"
      },
      "execution_count": 97,
      "outputs": [
        {
          "output_type": "stream",
          "name": "stdout",
          "text": [
            "hi\n"
          ]
        }
      ]
    },
    {
      "cell_type": "code",
      "source": [
        "type(r)"
      ],
      "metadata": {
        "colab": {
          "base_uri": "https://localhost:8080/"
        },
        "id": "FpCBjt74wx1B",
        "outputId": "e498518e-ad9b-4406-9ffe-5bf1ac42c1ed"
      },
      "execution_count": 96,
      "outputs": [
        {
          "output_type": "execute_result",
          "data": {
            "text/plain": [
              "list"
            ]
          },
          "metadata": {},
          "execution_count": 96
        }
      ]
    },
    {
      "cell_type": "code",
      "source": [
        ""
      ],
      "metadata": {
        "id": "vlxQ-WYew5-S"
      },
      "execution_count": null,
      "outputs": []
    }
  ]
}