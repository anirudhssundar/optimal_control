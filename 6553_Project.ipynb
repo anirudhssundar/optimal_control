{
  "nbformat": 4,
  "nbformat_minor": 0,
  "metadata": {
    "colab": {
      "name": "6553_Project.ipynb",
      "provenance": [],
      "collapsed_sections": [],
      "authorship_tag": "ABX9TyNL/iCTxhmj1YzhzNUHSuuU",
      "include_colab_link": true
    },
    "kernelspec": {
      "name": "python3",
      "display_name": "Python 3"
    },
    "language_info": {
      "name": "python"
    }
  },
  "cells": [
    {
      "cell_type": "markdown",
      "metadata": {
        "id": "view-in-github",
        "colab_type": "text"
      },
      "source": [
        "<a href=\"https://colab.research.google.com/github/anirudhssundar/optimal_control/blob/main/6553_Project.ipynb\" target=\"_parent\"><img src=\"https://colab.research.google.com/assets/colab-badge.svg\" alt=\"Open In Colab\"/></a>"
      ]
    },
    {
      "cell_type": "code",
      "execution_count": 1,
      "metadata": {
        "id": "775uZfaa2xvx"
      },
      "outputs": [],
      "source": [
        "import numpy as np\n",
        "import matplotlib.pyplot as plt\n",
        "import tqdm"
      ]
    },
    {
      "cell_type": "markdown",
      "source": [
        ""
      ],
      "metadata": {
        "id": "72INEVxio-55"
      }
    },
    {
      "cell_type": "code",
      "source": [
        "def get_p(x1,x2,r,dt):\n",
        "  # p = [x[-1]]\n",
        "\n",
        "  if type(r)!=int:\n",
        "    p1 = [0]\n",
        "    p2 = [0]\n",
        "    x1_rev = x1[::-1]\n",
        "    x2_rev = x2[::-1]\n",
        "    r_rev = r[::-1]\n",
        "    for i in range(1,len(x1)):\n",
        "      # p_t_minus_dt = p[-1]*(1-dt) + 2*x_rev[i]*dt\n",
        "      p2_t_minus_dt = p2[-1] - dt*(p2[-1]/(2*np.sqrt(x2_rev[i])) - 4*(x2_rev[i]-r_rev[i]))\n",
        "      p2.append(p2_t_minus_dt)\n",
        "\n",
        "      p1_t_minus_dt = p1[-1] - dt*(p1[-1]/(2*np.sqrt(x1_rev[i])) - p2[-1]/(2*np.sqrt(x1_rev[i])))\n",
        "      p1.append(p1_t_minus_dt)\n",
        "    return np.array(p1[::-1]), np.array(p2[::-1])\n",
        "  \n",
        "  else:\n",
        "    p1 = [0]\n",
        "    p2 = [0]\n",
        "    x1_rev = x1[::-1]\n",
        "    x2_rev = x2[::-1]\n",
        "    for i in range(1,len(x1)):\n",
        "      # p_t_minus_dt = p[-1]*(1-dt) + 2*x_rev[i]*dt\n",
        "      p2_t_minus_dt = p2[-1] - dt*(p2[-1]/(2*np.sqrt(x2_rev[i])) - 4*(x2_rev[i]-r))\n",
        "      p2.append(p2_t_minus_dt)\n",
        "\n",
        "      p1_t_minus_dt = p1[-1] - dt*(p1[-1]/(2*np.sqrt(x1_rev[i])) - p2[-1]/(2*np.sqrt(x1_rev[i])))\n",
        "      p1.append(p1_t_minus_dt)\n",
        "    return np.array(p1[::-1]), np.array(p2[::-1])"
      ],
      "metadata": {
        "id": "VEy_5HR522H2"
      },
      "execution_count": 2,
      "outputs": []
    },
    {
      "cell_type": "code",
      "source": [
        "def get_u(t1,t2,t3,dt):\n",
        "  t = np.arange(1000)\n",
        "  dynu = []\n",
        "  for i,foo in enumerate(t):\n",
        "    if foo*dt < t1:\n",
        "      dynu.append(2)\n",
        "    elif (foo*dt>=t1) and (foo*dt<t2):\n",
        "      dynu.append(1)\n",
        "    elif (foo*dt>=t2) and(foo*dt<t3):\n",
        "      dynu.append(2)\n",
        "    else:\n",
        "      dynu.append(1)\n",
        "  return dynu"
      ],
      "metadata": {
        "id": "9xjFxh6fwrBN"
      },
      "execution_count": 3,
      "outputs": []
    },
    {
      "cell_type": "code",
      "source": [
        "def get_single_u(t1,dt):\n",
        "  t = np.arange(1000)\n",
        "  dynu = []\n",
        "  for i,foo in enumerate(t):\n",
        "    if foo*dt < t1:\n",
        "      dynu.append(2)\n",
        "    else:\n",
        "      dynu.append(1)\n",
        "  return np.array(dynu)"
      ],
      "metadata": {
        "id": "QLKxo8nIIXuV"
      },
      "execution_count": 4,
      "outputs": []
    },
    {
      "cell_type": "code",
      "source": [
        "def get_double_u(t1,t2,dt):\n",
        "  t = np.arange(1000)\n",
        "  dynu = []\n",
        "  for i,foo in enumerate(t):\n",
        "    if foo*dt < t1:\n",
        "      dynu.append(2)\n",
        "    elif (foo*dt >=t1) and (foo*dt<t2):\n",
        "      dynu.append(1)\n",
        "    else:\n",
        "      dynu.append(2)\n",
        "  return np.array(dynu)"
      ],
      "metadata": {
        "id": "ZcxFlsPPfe-n"
      },
      "execution_count": 5,
      "outputs": []
    },
    {
      "cell_type": "code",
      "source": [
        "def J(x,r,dt):\n",
        "  val = 2*np.sum((x - r)**2)*dt\n",
        "  return val"
      ],
      "metadata": {
        "id": "x27y6rSbsg7k"
      },
      "execution_count": 6,
      "outputs": []
    },
    {
      "cell_type": "code",
      "source": [
        "def J_vec(x,r,dt):\n",
        "  val = 2*np.sum((x))"
      ],
      "metadata": {
        "id": "OK5AEReFwcwV"
      },
      "execution_count": 7,
      "outputs": []
    },
    {
      "cell_type": "code",
      "source": [
        "def dyn_u(t1,t2,dt):\n",
        "  dynu = get_u(t1,t2,dt)\n",
        "  dynx = get_trajectory(dynu,1.5,dt)\n",
        "  cost = J(dynx,2.5,dt)\n",
        "  return cost"
      ],
      "metadata": {
        "id": "kYCBwkYqs53-"
      },
      "execution_count": 8,
      "outputs": []
    },
    {
      "cell_type": "code",
      "source": [
        "def get_trajectory_x1(u,x1_0,dt):\n",
        "  x = x1_0\n",
        "  x_fin = []\n",
        "  x_fin.append(x1_0)\n",
        "  for i in u:\n",
        "    x_dot = -np.sqrt(x) + i\n",
        "    x_new = x_dot*dt + x\n",
        "    x_fin.append(x_new)\n",
        "    x = x_new \n",
        "  return np.array(x_fin[:-1])"
      ],
      "metadata": {
        "id": "JX2ssEd24Fx8"
      },
      "execution_count": 9,
      "outputs": []
    },
    {
      "cell_type": "code",
      "source": [
        "def get_trajectory_x2(x1,x2_0,dt):\n",
        "  x = x2_0\n",
        "  x_fin = []\n",
        "  x_fin.append(x2_0)\n",
        "  for i in x1:\n",
        "    x_dot = -np.sqrt(x) + i\n",
        "    x_new = x_dot*dt + x\n",
        "    x_fin.append(x_new)\n",
        "    x = x_new \n",
        "  return np.array(x_fin[:-1])"
      ],
      "metadata": {
        "id": "QW9y1Y6hUIax"
      },
      "execution_count": 10,
      "outputs": []
    },
    {
      "cell_type": "code",
      "source": [
        "def minimize_hamiltonian(p1,p2,x1,x2,dt):\n",
        "  conv_u = np.arange(1,2,0.01)\n",
        "  # minimize p1f1 + p2f2 +L -> same as minimizing p1f1 since u doesnt appear in f2\n",
        "  v_i = []\n",
        "  for i in range(len(p1)):\n",
        "    min_index = np.argmin(p1[i]*(conv_u-np.sqrt(x1[i])))\n",
        "    v_i.append(conv_u[min_index])\n",
        "  return np.array(v_i)"
      ],
      "metadata": {
        "id": "t-VXC0Mjbz2t"
      },
      "execution_count": 11,
      "outputs": []
    },
    {
      "cell_type": "code",
      "source": [
        "# Part a -> Single switching\n",
        "x1_0 = 2\n",
        "x2_0 = 2\n",
        "dt = 0.01\n",
        "t = np.arange(1000)\n",
        "r = 3\n",
        "\n",
        "u = np.ones(1000)\n",
        "x1 = get_trajectory_x1(u, x1_0,dt)\n",
        "x2 = get_trajectory_x2(x1, x2_0, dt)\n",
        "\n",
        "\n",
        "alpha=0.0002\n",
        "beta=0.5\n",
        "tol = 1e-4\n",
        "\n",
        "t_1 = 5\n",
        "# t_2 = np.arange()\n",
        "# t_3 = 9\n",
        "\n",
        "u = np.array(500*[2]+500*[1])\n",
        "x1 = get_trajectory_x1(u, x1_0,dt)\n",
        "x2 = get_trajectory_x2(x1, x2_0, dt)\n",
        "p1,p2 = get_p(x1,x2,r,dt)\n",
        "\n",
        "# ARMIJO STUFF\n",
        "\n",
        "# Single Switch\n",
        "for iters in range(20):\n",
        "  beta=0.5\n",
        "  x1 = get_trajectory_x1(u, x1_0,dt)\n",
        "  x2 = get_trajectory_x2(x1, x2_0, dt)\n",
        "  \n",
        "  plt.scatter(iters,J(x2,r,dt))\n",
        "\n",
        "  for l in range(10):\n",
        "    t_new = t_1 - (beta**l)*p1[int(t_1/dt)]\n",
        "    if t_new < 0:\n",
        "      t_new = t_1\n",
        "    u_new = get_single_u(t_new,dt)\n",
        "    x1_temp = get_trajectory_x1(u_new, x1_0,dt)\n",
        "    x2_temp = get_trajectory_x2(x1_temp, x2_0, dt)\n",
        "    if J(x2_temp,r,dt) - J(x2,r,dt) < -alpha*(beta**l)*(p1[int(t_1/dt)]**2):\n",
        "      t_1 = t_new\n",
        "      print(\"hi\",t_1)\n",
        "      u = u_new\n",
        "      # print(l)\n",
        "      break\n",
        "    beta = beta/2\n",
        "# plt.plot(u)"
      ],
      "metadata": {
        "colab": {
          "base_uri": "https://localhost:8080/",
          "height": 410
        },
        "id": "nmMw2nDH4VUl",
        "outputId": "111eae9e-e571-40fe-e1af-334cf5d19e7c"
      },
      "execution_count": 12,
      "outputs": [
        {
          "output_type": "stream",
          "name": "stdout",
          "text": [
            "hi 4.659197338766558\n",
            "hi 4.286312127548642\n",
            "hi 3.8804619837003393\n",
            "hi 3.4411420285629095\n",
            "hi 2.96881822601674\n",
            "hi 2.466400994772345\n",
            "hi 1.9405495904444399\n",
            "hi 1.4001464045398584\n"
          ]
        },
        {
          "output_type": "display_data",
          "data": {
            "text/plain": [
              "<Figure size 432x288 with 1 Axes>"
            ],
            "image/png": "[encoded data removed]"
          },
          "metadata": {
            "needs_background": "light"
          }
        }
      ]
    },
    {
      "cell_type": "code",
      "source": [
        "# Part a-> 2 switchings\n",
        "x1_0 = 2\n",
        "x2_0 = 2\n",
        "dt = 0.01\n",
        "t = np.arange(1000)\n",
        "r = 3\n",
        "\n",
        "u = np.ones(1000)\n",
        "x1 = get_trajectory_x1(u, x1_0,dt)\n",
        "x2 = get_trajectory_x2(x1, x2_0, dt)\n",
        "\n",
        "\n",
        "alpha=0.0002\n",
        "beta=0.5\n",
        "tol = 1e-4\n",
        "\n",
        "t_1 = 3\n",
        "t_2 = 7\n",
        "# t_2 = np.arange()\n",
        "# t_3 = 9\n",
        "\n",
        "# u = np.array(500*[2]+500*[1])\n",
        "u = get_double_u(t_1,t_2,dt)\n",
        "x1 = get_trajectory_x1(u, x1_0,dt)\n",
        "x2 = get_trajectory_x2(x1, x2_0, dt)\n",
        "p1,p2 = get_p(x1,x2,r,dt)\n",
        "\n",
        "# ARMIJO STUFF\n",
        "\n",
        "# Single Switch\n",
        "for iters in range(10):\n",
        "  beta = 0.5\n",
        "  x1 = get_trajectory_x1(u, x1_0,dt)\n",
        "  x2 = get_trajectory_x2(x1, x2_0, dt)\n",
        "  \n",
        "  plt.scatter(iters,J(x2,r,dt))\n",
        "\n",
        "  for l in range(20):\n",
        "    t_new = t_1 - (beta**l)*p1[int(t_1/dt)]\n",
        "    if t_new < 0:\n",
        "      t_new = t_1\n",
        "    u_new = get_double_u(t_new,t_2,dt)\n",
        "    x1_temp = get_trajectory_x1(u_new, x1_0,dt)\n",
        "    x2_temp = get_trajectory_x2(x1_temp, x2_0, dt)\n",
        "    if J(x2_temp,r,dt) - J(x2,r,dt) < -alpha*(beta**l)*(p1[int(t_1/dt)]**2):\n",
        "      t_1 = t_new\n",
        "      # print(\"hi\",t_1)\n",
        "      u = u_new\n",
        "      # print(l)\n",
        "      break\n",
        "    beta = beta/2\n",
        "\n",
        "  # Optimize for t_2\n",
        "  beta=0.5\n",
        "  for l in range(20):\n",
        "    if (t_2/dt) > 1000:\n",
        "      t_2 = 9.99\n",
        "    t2_new = t_2 - (beta**l)*(+1)*p1[int(t_2/dt)]\n",
        "    # if t2_new > 1000:\n",
        "      # t2_new = t_2\n",
        "    u_new = get_double_u(t_1,t2_new,dt)\n",
        "    x1_temp = get_trajectory_x1(u_new, x1_0,dt)\n",
        "    x2_temp = get_trajectory_x2(x1_temp, x2_0, dt)\n",
        "    if J(x2_temp,r,dt) - J(x2,r,dt) < -alpha*(beta**l)*(p1[int(t_2/dt)]**2):\n",
        "      t_2 = t2_new\n",
        "      print(\"hi\",t_2)\n",
        "      u = u_new\n",
        "      # print(l)\n",
        "      break\n",
        "    beta = beta/2\n",
        "plt.figure()\n",
        "plt.plot(u)"
      ],
      "metadata": {
        "colab": {
          "base_uri": "https://localhost:8080/",
          "height": 658
        },
        "id": "f279lx_BfcUZ",
        "outputId": "da5456c1-5797-44e2-9ac0-569cdafb91aa"
      },
      "execution_count": 13,
      "outputs": [
        {
          "output_type": "stream",
          "name": "stdout",
          "text": [
            "hi 6.932264103868337\n",
            "hi 6.862279200764303\n",
            "hi 6.790048458577772\n",
            "hi 6.715570665868057\n",
            "hi 6.638518103016791\n",
            "hi 6.558878213177931\n",
            "hi 6.476633260944913\n"
          ]
        },
        {
          "output_type": "execute_result",
          "data": {
            "text/plain": [
              "[<matplotlib.lines.Line2D at 0x7f0c1f88ead0>]"
            ]
          },
          "metadata": {},
          "execution_count": 13
        },
        {
          "output_type": "display_data",
          "data": {
            "text/plain": [
              "<Figure size 432x288 with 1 Axes>"
            ],
            "image/png": "[encoded data removed]"
          },
          "metadata": {
            "needs_background": "light"
          }
        },
        {
          "output_type": "display_data",
          "data": {
            "text/plain": [
              "<Figure size 432x288 with 1 Axes>"
            ],
            "image/png": "[encoded data removed]"
          },
          "metadata": {
            "needs_background": "light"
          }
        }
      ]
    },
    {
      "cell_type": "code",
      "source": [
        "# Part a-> 3 switchings\n",
        "x1_0 = 2\n",
        "x2_0 = 2\n",
        "dt = 0.01\n",
        "t = np.arange(1000)\n",
        "r = 3\n",
        "\n",
        "u = np.ones(1000)\n",
        "x1 = get_trajectory_x1(u, x1_0,dt)\n",
        "x2 = get_trajectory_x2(x1, x2_0, dt)\n",
        "\n",
        "\n",
        "alpha=0.02\n",
        "beta=0.5\n",
        "tol = 1e-4\n",
        "\n",
        "t_1 = 2\n",
        "t_2 = 5\n",
        "t_3 = 7\n",
        "\n",
        "# u = np.array(500*[2]+500*[1])\n",
        "# u = get_double_u(t_1,t_2,dt)\n",
        "u = get_u(t_1,t_2,t_3,dt)\n",
        "# plt.figure()\n",
        "# plt.plot(u)\n",
        "x1 = get_trajectory_x1(u, x1_0,dt)\n",
        "x2 = get_trajectory_x2(x1, x2_0, dt)\n",
        "p1,p2 = get_p(x1,x2,r,dt)\n",
        "\n",
        "# ARMIJO STUFF\n",
        "\n",
        "\n",
        "for iters in range(10):\n",
        "  beta = 0.9\n",
        "  x1 = get_trajectory_x1(u, x1_0,dt)\n",
        "  x2 = get_trajectory_x2(x1, x2_0, dt)\n",
        "  \n",
        "  plt.scatter(iters,J(x2,r,dt))\n",
        "  \n",
        "  # Optimize for t_2\n",
        "  \n",
        "  beta2=0.9\n",
        "  for l in range(20):\n",
        "    # if (t_2/dt) > 1000:\n",
        "      # t_2 = 9.99\n",
        "    t2_new = t_2 - (beta2**l)*(1)*p1[int(t_2/dt)]\n",
        "    if t2_new > t_3:\n",
        "      t2_new = t_2\n",
        "      continue\n",
        "    u_new = get_u(t_1,t2_new,t_3,dt)\n",
        "    x1_temp = get_trajectory_x1(u_new, x1_0,dt)\n",
        "    x2_temp = get_trajectory_x2(x1_temp, x2_0, dt)\n",
        "    if J(x2_temp,r,dt) - J(x2,r,dt) < -alpha*(beta2**l)*(p1[int(t_2/dt)]**2):\n",
        "      t_2 = t2_new\n",
        "      # print(\"hi\",t_2)\n",
        "      u = u_new\n",
        "      # print(l)\n",
        "      break\n",
        "    beta2 = beta2/2\n",
        "  \n",
        "\n",
        "  beta3=0.25\n",
        "  for l in range(20):\n",
        "    # if (t_3/dt) > 1000:\n",
        "      # t_3 = 9.99\n",
        "    t3_new = t_3 - (beta3**l)*(1)*p1[int(t_3/dt)]\n",
        "    # print(\"bro\",t3_new,(beta**l)*(1)*p1[int(t_3/dt)])\n",
        "    if t3_new < t_2:\n",
        "      t3_new = t_3\n",
        "      continue\n",
        "    # if t2_new > 1000:\n",
        "      # t2_new = t_2\n",
        "    u_new = get_u(t_1,t_2,t3_new,dt)\n",
        "    x1_temp = get_trajectory_x1(u_new, x1_0,dt)\n",
        "    x2_temp = get_trajectory_x2(x1_temp, x2_0, dt)\n",
        "    if J(x2_temp,r,dt) - J(x2,r,dt) < -alpha*(beta3**l)*(p1[int(t_3/dt)]**2):\n",
        "      t_3 = t3_new\n",
        "      # print(\"hi\",t_3)\n",
        "      u = u_new\n",
        "      # print(l)\n",
        "      break\n",
        "    beta3 = beta3/2\n",
        "  \n",
        "\n",
        "  # Optimize for t_1\n",
        "  for l in range(20):\n",
        "    t_new = t_1 - (beta**l)*p1[int(t_1/dt)]\n",
        "    if t_new < 0:\n",
        "      t_new = t_1\n",
        "    u_new = get_u(t_new,t_2,t_3,dt)\n",
        "    x1_temp = get_trajectory_x1(u_new, x1_0,dt)\n",
        "    x2_temp = get_trajectory_x2(x1_temp, x2_0, dt)\n",
        "    if J(x2_temp,r,dt) - J(x2,r,dt) < -alpha*(beta**l)*(p1[int(t_1/dt)]**2):\n",
        "      t_1 = t_new\n",
        "      # print(\"hi\",t_1)\n",
        "      u = u_new\n",
        "      # print(l)\n",
        "      break\n",
        "    beta = beta/2\n",
        "  \n",
        "\n",
        "\n",
        "  print(t_1,t_2,t_3)\n",
        "plt.figure()\n",
        "plt.plot(u)"
      ],
      "metadata": {
        "colab": {
          "base_uri": "https://localhost:8080/",
          "height": 717
        },
        "id": "xHx1kGVKmc2Q",
        "outputId": "d31872b9-86b1-49af-c975-247c53e60ee8"
      },
      "execution_count": null,
      "outputs": [
        {
          "output_type": "stream",
          "name": "stdout",
          "text": [
            "2 5 5.915946123938521\n",
            "1.3990374681415823 5 5.50645605561812\n",
            "1.3990374681415823 4.59027328484456 5.492230837808686\n",
            "1.3816176823721844 4.577895261120069 5.492119444214932\n",
            "1.3641937663736734 4.565477792018843 5.492008050621179\n",
            "1.3467620871501174 4.553040656251113 5.491896657027425\n",
            "1.329323314851919 4.540583890020972 5.4917852634336715\n",
            "1.3118781281484133 4.528107528689607 5.491673869839918\n",
            "1.2944299913778046 4.515592079927156 5.491562476246164\n",
            "1.27697647395802 4.503057137208304 5.491451082652411\n"
          ]
        },
        {
          "output_type": "execute_result",
          "data": {
            "text/plain": [
              "[<matplotlib.lines.Line2D at 0x7f96c5028e90>]"
            ]
          },
          "metadata": {},
          "execution_count": 90
        },
        {
          "output_type": "display_data",
          "data": {
            "text/plain": [
              "<Figure size 432x288 with 1 Axes>"
            ],
            "image/png": "[encoded data removed]"
          },
          "metadata": {
            "needs_background": "light"
          }
        },
        {
          "output_type": "display_data",
          "data": {
            "text/plain": [
              "<Figure size 432x288 with 1 Axes>"
            ],
            "image/png": "[encoded data removed]"
          },
          "metadata": {
            "needs_background": "light"
          }
        }
      ]
    },
    {
      "cell_type": "code",
      "source": [
        "# Part a-> 3 switchings\n",
        "x1_0 = 2\n",
        "x2_0 = 2\n",
        "dt = 0.01\n",
        "t = np.arange(1000)\n",
        "r = 3\n",
        "\n",
        "u = np.ones(1000)\n",
        "x1 = get_trajectory_x1(u, x1_0,dt)\n",
        "x2 = get_trajectory_x2(x1, x2_0, dt)\n",
        "\n",
        "\n",
        "alpha=0.02\n",
        "beta=0.5\n",
        "tol = 1e-4\n",
        "\n",
        "t_1 = 2\n",
        "t_2 = 5\n",
        "t_3 = 7\n",
        "\n",
        "# u = np.array(500*[2]+500*[1])\n",
        "# u = get_double_u(t_1,t_2,dt)\n",
        "u = get_u(t_1,t_2,t_3,dt)\n",
        "# plt.figure()\n",
        "# plt.plot(u)\n",
        "x1 = get_trajectory_x1(u, x1_0,dt)\n",
        "x2 = get_trajectory_x2(x1, x2_0, dt)\n",
        "p1,p2 = get_p(x1,x2,r,dt)\n",
        "\n",
        "# ARMIJO STUFF\n",
        "\n",
        "\n",
        "for iters in range(20):\n",
        "  beta = 0.5\n",
        "  x1 = get_trajectory_x1(u, x1_0,dt)\n",
        "  x2 = get_trajectory_x2(x1, x2_0, dt)\n",
        "  \n",
        "  plt.scatter(iters,J(x2,r,dt))\n",
        "  \n",
        "  # Optimize for t_2\n",
        "  \n",
        "  beta2=0.5\n",
        "  for l in range(10):\n",
        "    # if (t_2/dt) > 1000:\n",
        "      # t_2 = 9.99\n",
        "    t2_new = t_2 - (beta2**l)*(1)*p1[int(t_2/dt)]\n",
        "    if t2_new > t_3:\n",
        "      t2_new = t_2\n",
        "      continue\n",
        "    u_new = get_u(t_1,t2_new,t_3,dt)\n",
        "    x1_temp = get_trajectory_x1(u_new, x1_0,dt)\n",
        "    x2_temp = get_trajectory_x2(x1_temp, x2_0, dt)\n",
        "    if J(x2_temp,r,dt) - J(x2,r,dt) < -alpha*(beta2**l)*(p1[int(t_2/dt)]**2):\n",
        "      t_2 = t2_new\n",
        "      # print(\"hi\",t_2)\n",
        "      u = u_new\n",
        "      # print(l)\n",
        "      # break\n",
        "      # continue\n",
        "    beta2 = beta2/2\n",
        "  \n",
        "\n",
        "    beta3=0.25\n",
        "    # if (t_3/dt) > 1000:\n",
        "      # t_3 = 9.99\n",
        "    t3_new = t_3 - (beta3**l)*(1)*p1[int(t_3/dt)]\n",
        "    # print(\"bro\",t3_new,(beta**l)*(1)*p1[int(t_3/dt)])\n",
        "    if t3_new < t_2:\n",
        "      t3_new = t_3\n",
        "      continue\n",
        "    # if t2_new > 1000:\n",
        "      # t2_new = t_2\n",
        "    u_new = get_u(t_1,t_2,t3_new,dt)\n",
        "    x1_temp = get_trajectory_x1(u_new, x1_0,dt)\n",
        "    x2_temp = get_trajectory_x2(x1_temp, x2_0, dt)\n",
        "    if J(x2_temp,r,dt) - J(x2,r,dt) < -alpha*(beta3**l)*(p1[int(t_3/dt)]**2):\n",
        "      t_3 = t3_new\n",
        "      # print(\"hi\",t_3)\n",
        "      u = u_new\n",
        "      # print(l)\n",
        "      # break\n",
        "      # continue\n",
        "    beta3 = beta3/2\n",
        "  \n",
        "    t_new = t_1 - (beta**l)*p1[int(t_1/dt)]\n",
        "    if t_new < 0:\n",
        "      t_new = t_1\n",
        "    u_new = get_u(t_new,t_2,t_3,dt)\n",
        "    x1_temp = get_trajectory_x1(u_new, x1_0,dt)\n",
        "    x2_temp = get_trajectory_x2(x1_temp, x2_0, dt)\n",
        "    if J(x2_temp,r,dt) - J(x2,r,dt) < -alpha*(beta**l)*(p1[int(t_1/dt)]**2):\n",
        "      t_1 = t_new\n",
        "      # print(\"hi\",t_1)\n",
        "      u = u_new\n",
        "      # print(l)\n",
        "      # break\n",
        "      # continue\n",
        "    beta = beta/2\n",
        "  \n",
        "\n",
        "\n",
        "print(t_1,t_2,t_3)\n",
        "plt.figure()\n",
        "plt.plot(u)"
      ],
      "metadata": {
        "colab": {
          "base_uri": "https://localhost:8080/",
          "height": 889
        },
        "id": "2tYg3xpWvxj6",
        "outputId": "63d640fa-9f84-4a0d-8016-eaabdefa99b3"
      },
      "execution_count": null,
      "outputs": [
        {
          "output_type": "stream",
          "name": "stdout",
          "text": [
            "1.233929813511795 4.871508881985091 5.353698045283864\n",
            "1.2309233456398574 4.739872242445457 5.225918355739847\n",
            "1.2279168768574908 4.604991622731544 5.102324505746353\n",
            "1.2249101752328062 4.467198600216644 4.9702157312711055\n",
            "1.2219034736081216 4.326355823414085 4.840325785537585\n",
            "1.2188967711949754 4.182525222694023 4.710039565864218\n",
            "1.024199858195439 4.0357455730399225 4.6655720895904755\n",
            "1.0211952755943725 3.8858389232762844 4.520012338080903\n",
            "0.8266622561221727 3.732822538532728 4.508572668710656\n",
            "0.8236735721954489 3.576702502294226 4.359097492967818\n",
            "0.8206848882687251 3.4172822948528006 4.215174292843685\n",
            "0.8206732478332949 3.254571579707015 4.070575699444067\n",
            "0.627182656303419 3.0885882476074995 4.058355231206086\n",
            "0.6242247479013443 2.919162879911492 3.9010755847291985\n",
            "0.6212668394992696 2.7463513612136143 3.8509495670465768\n",
            "0.6183089386791206 2.570244969637558 3.8004841277871204\n",
            "0.6153529769378486 2.5674769431836952 3.800298294028574\n",
            "0.6153529769378486 2.5674769431836952 3.800298294028574\n",
            "0.6153529769378486 2.5674769431836952 3.800298294028574\n",
            "0.6153529769378486 2.5674769431836952 3.800298294028574\n"
          ]
        },
        {
          "output_type": "execute_result",
          "data": {
            "text/plain": [
              "[<matplotlib.lines.Line2D at 0x7f39a633d5d0>]"
            ]
          },
          "metadata": {},
          "execution_count": 20
        },
        {
          "output_type": "display_data",
          "data": {
            "text/plain": [
              "<Figure size 432x288 with 1 Axes>"
            ],
            "image/png": "[encoded data removed]"
          },
          "metadata": {
            "needs_background": "light"
          }
        },
        {
          "output_type": "display_data",
          "data": {
            "text/plain": [
              "<Figure size 432x288 with 1 Axes>"
            ],
            "image/png": "[encoded data removed]"
          },
          "metadata": {
            "needs_background": "light"
          }
        }
      ]
    },
    {
      "cell_type": "code",
      "source": [
        "# Part a-> 3 switchings vectorized\n",
        "x1_0 = 2\n",
        "x2_0 = 2\n",
        "dt = 0.01\n",
        "t = np.arange(1000)\n",
        "r = 3\n",
        "\n",
        "u = np.ones(1000)\n",
        "x1 = get_trajectory_x1(u, x1_0,dt)\n",
        "x2 = get_trajectory_x2(x1, x2_0, dt)\n",
        "\n",
        "\n",
        "alpha=0.002\n",
        "beta=0.5\n",
        "tol = 1e-4\n",
        "\n",
        "t_1 = 2\n",
        "t_2 = 5\n",
        "t_3 = 7\n",
        "\n",
        "# u = np.array(500*[2]+500*[1])\n",
        "# u = get_double_u(t_1,t_2,dt)\n",
        "u = get_u(t_1,t_2,t_3,dt)\n",
        "# plt.figure()\n",
        "# plt.plot(u)\n",
        "x1 = get_trajectory_x1(u, x1_0,dt)\n",
        "x2 = get_trajectory_x2(x1, x2_0, dt)\n",
        "p1,p2 = get_p(x1,x2,r,dt)\n",
        "\n",
        "# ARMIJO STUFF\n",
        "\n",
        "time_vector = np.array([t_1,t_2,t_3])\n",
        "\n",
        "for iters in range(20):\n",
        "  beta=0.9\n",
        "  x1 = get_trajectory_x1(u, x1_0,dt)\n",
        "  x2 = get_trajectory_x2(x1, x2_0, dt)\n",
        "  \n",
        "  plt.scatter(iters,J(x2,r,dt))\n",
        "  \n",
        "  for l in range(10):\n",
        "    t_1,t_2,t_3 = time_vector\n",
        "\n",
        "    p_vector = np.array([p1[int(t_1/dt)],-p1[int(t_2/dt)],p1[int(t_3/dt)]])\n",
        "    time_vector_new = time_vector - (beta**l)*(1)*p_vector\n",
        "\n",
        "    u_new = get_u(time_vector_new[0],time_vector_new[1],time_vector_new[2],dt)\n",
        "    x1_temp = get_trajectory_x1(u_new, x1_0,dt)\n",
        "    x2_temp = get_trajectory_x2(x1_temp, x2_0, dt)\n",
        "    if J(x2_temp,r,dt) - J(x2,r,dt) < -alpha*(beta**l)*(np.linalg.norm(p_vector)**2):\n",
        "      time_vector = time_vector_new\n",
        "      # print(\"hi\",t_2)\n",
        "      u = u_new\n",
        "      x1 = x1_temp\n",
        "      x2 = x2_temp\n",
        "      p1,p2 = get_p(x1,x2,r,dt)\n",
        "      # print(l)\n",
        "      # break\n",
        "      # continue\n",
        "    beta = beta/2\n",
        "  \n",
        "\n",
        "\n",
        "  print(t_1,t_2,t_3)\n",
        "plt.figure()\n",
        "plt.plot(u)"
      ],
      "metadata": {
        "colab": {
          "base_uri": "https://localhost:8080/",
          "height": 895
        },
        "id": "8iT7r7sVrUjb",
        "outputId": "caf19e62-ba59-48b4-d32b-fac7cecbf05f"
      },
      "execution_count": 36,
      "outputs": [
        {
          "output_type": "stream",
          "name": "stdout",
          "text": [
            "1.3956207548582076 5.410399911657573 6.7800335554915065\n",
            "1.2765613143671322 5.431287083558176 6.766347607509386\n",
            "1.223510563999756 5.413153741536544 6.776795038002619\n",
            "0.9724829118592275 5.205380773518538 6.85980466270463\n",
            "1.0011726259746871 5.203414017277833 6.8422753577151765\n",
            "1.1156562415765476 5.2187498159732035 6.671785414431008\n",
            "1.0125366760230277 5.107197375836449 6.672315023552125\n",
            "1.0687023885314137 5.08684145260123 6.570373682242552\n",
            "1.012985163070141 5.017780050773552 6.547105594264155\n",
            "1.0349424232401612 4.983490636319202 6.486985496199257\n",
            "1.0018760642089652 4.9381002504206934 6.457411592219945\n",
            "1.0223811800074558 4.879958314797576 6.360812476965336\n",
            "1.0123565956217424 4.87934078711029 6.357840886102286\n",
            "0.9775008635556117 4.833818313490715 6.354803802005894\n",
            "0.983374688165205 4.8307649221777975 6.3515223467212225\n",
            "0.9926859417006849 4.819621566932607 6.311456202164664\n",
            "0.9895720398643797 4.81831348870379 6.308991645402385\n",
            "0.9895720398643797 4.81831348870379 6.308991645402385\n",
            "0.9895720398643797 4.81831348870379 6.308991645402385\n",
            "0.9895720398643797 4.81831348870379 6.308991645402385\n"
          ]
        },
        {
          "output_type": "execute_result",
          "data": {
            "text/plain": [
              "[<matplotlib.lines.Line2D at 0x7f0c173e9410>]"
            ]
          },
          "metadata": {},
          "execution_count": 36
        },
        {
          "output_type": "display_data",
          "data": {
            "text/plain": [
              "<Figure size 432x288 with 1 Axes>"
            ],
            "image/png": "[encoded data removed]"
          },
          "metadata": {
            "needs_background": "light"
          }
        },
        {
          "output_type": "display_data",
          "data": {
            "text/plain": [
              "<Figure size 432x288 with 1 Axes>"
            ],
            "image/png": "[encoded data removed]"
          },
          "metadata": {
            "needs_background": "light"
          }
        }
      ]
    },
    {
      "cell_type": "code",
      "source": [
        "# u = np.array(500*[2]+500*[1])\n",
        "x1 = get_trajectory_x1(u, x1_0,dt)\n",
        "x2 = get_trajectory_x2(x1, x2_0, dt)\n",
        "p1,p2 = get_p(x1,x2,r,dt)"
      ],
      "metadata": {
        "id": "wrSzyKUHZUHx"
      },
      "execution_count": 37,
      "outputs": []
    },
    {
      "cell_type": "code",
      "source": [
        "plt.plot(x2)\n",
        "print(J(x2,r,dt))\n",
        "# print(t_1,t_2,t_3)\n",
        "# plt.plot(u)\n",
        "# plt.plot(t*dt,p1)\n",
        "# t_new\n",
        "# p1[int(t_1/dt)]"
      ],
      "metadata": {
        "colab": {
          "base_uri": "https://localhost:8080/",
          "height": 283
        },
        "id": "Y2AuxVc4Ja7d",
        "outputId": "2e986fa0-521d-4b45-ecb0-0c7d37bed677"
      },
      "execution_count": 38,
      "outputs": [
        {
          "output_type": "stream",
          "name": "stdout",
          "text": [
            "1.743605413335483\n"
          ]
        },
        {
          "output_type": "display_data",
          "data": {
            "text/plain": [
              "<Figure size 432x288 with 1 Axes>"
            ],
            "image/png": "[encoded data removed]"
          },
          "metadata": {
            "needs_background": "light"
          }
        }
      ]
    },
    {
      "cell_type": "code",
      "source": [
        "# Project 1b\n",
        "x1_0 = 2\n",
        "x2_0 = 2\n",
        "dt = 0.01\n",
        "t = np.arange(1000)\n",
        "r = 3\n",
        "\n",
        "u = np.ones(1000)\n",
        "x1 = get_trajectory_x1(u, x1_0,dt)\n",
        "x2 = get_trajectory_x2(x1, x2_0, dt)\n",
        "# plt.plot(x1)\n",
        "# plt.plot(x2)\n",
        "# p1 = get_p(x1,dt)\n",
        "# p2 = get_p(x2,dt)\n",
        "# plt.plot(p1)\n",
        "# plt.plot(p2)\n",
        "p1,p2 = get_p(x1,x2,r,dt)\n",
        "alpha = 1e-4\n",
        "beta = 0.5\n",
        "tol = 1e-4\n",
        "\n",
        "for j in range(20):\n",
        "  x1 = get_trajectory_x1(u,x1_0,dt)\n",
        "  x2 = get_trajectory_x2(x1,x2_0,dt)\n",
        "\n",
        "  plt.scatter(j,J(x2,r,dt))\n",
        "\n",
        "  p1,p2 = get_p(x1,x2,r,dt)\n",
        "  v_i = minimize_hamiltonian(p1,p2,x1,x2,dt)\n",
        "\n",
        "  theta_u = dt*np.sum(np.dot(p1, v_i - u))\n",
        "\n",
        "  for l in range(10):\n",
        "\n",
        "    convex_combination = (1 - beta**l)*u + (beta**l)*v_i\n",
        "\n",
        "    x1_temp = get_trajectory_x1(convex_combination,x1_0,dt)\n",
        "    x2_temp = get_trajectory_x2(x1_temp,x2_0,dt)\n",
        "    if J(x2_temp,r,dt) - J(x2,r,dt) < alpha*(beta**l)*theta_u:\n",
        "      # print(l)\n",
        "      u = convex_combination\n",
        "      # plt.plot(u)\n",
        "      beta = beta/2\n",
        "      break\n",
        "x1_fin = get_trajectory_x1(u, x1_0,dt)\n",
        "x2_fin = get_trajectory_x2(x1_fin, x2_0,dt)\n",
        "plt.figure()\n",
        "plt.plot(t,x1_fin,color='b')\n",
        "plt.plot(t,x2_fin,color='g')\n",
        "plt.hlines(y=3.0,xmin=0,xmax=1000,colors='r')"
      ],
      "metadata": {
        "colab": {
          "base_uri": "https://localhost:8080/",
          "height": 532
        },
        "id": "gmEL1XxraBV6",
        "outputId": "d6c5069a-27b6-4022-8f2b-40f2e03d6b78"
      },
      "execution_count": null,
      "outputs": [
        {
          "output_type": "execute_result",
          "data": {
            "text/plain": [
              "<matplotlib.collections.LineCollection at 0x7f96c5d665d0>"
            ]
          },
          "metadata": {},
          "execution_count": 18
        },
        {
          "output_type": "display_data",
          "data": {
            "text/plain": [
              "<Figure size 432x288 with 1 Axes>"
            ],
            "image/png": "[encoded data removed]"
          },
          "metadata": {
            "needs_background": "light"
          }
        },
        {
          "output_type": "display_data",
          "data": {
            "text/plain": [
              "<Figure size 432x288 with 1 Axes>"
            ],
            "image/png": "[encoded data removed]"
          },
          "metadata": {
            "needs_background": "light"
          }
        }
      ]
    },
    {
      "cell_type": "code",
      "source": [
        "plt.plot(u[:-1])"
      ],
      "metadata": {
        "colab": {
          "base_uri": "https://localhost:8080/",
          "height": 284
        },
        "id": "ALHQlW7veu5w",
        "outputId": "8c5fb7d9-9985-43da-ced4-a3b5851f4c89"
      },
      "execution_count": null,
      "outputs": [
        {
          "output_type": "execute_result",
          "data": {
            "text/plain": [
              "[<matplotlib.lines.Line2D at 0x7fabddfa7610>]"
            ]
          },
          "metadata": {},
          "execution_count": 117
        },
        {
          "output_type": "display_data",
          "data": {
            "text/plain": [
              "<Figure size 432x288 with 1 Axes>"
            ],
            "image/png": "[encoded data removed]"
          },
          "metadata": {
            "needs_background": "light"
          }
        }
      ]
    },
    {
      "cell_type": "code",
      "source": [
        "# Problem 1c\n",
        "x1_0 = 2\n",
        "x2_0 = 2\n",
        "dt = 0.01\n",
        "t = np.arange(3000)\n",
        "r = 3 + np.sin(0.12*np.pi*t*dt)\n",
        "\n",
        "u = np.ones(3000)\n",
        "x1 = get_trajectory_x1(u, x1_0,dt)\n",
        "x2 = get_trajectory_x2(x1, x2_0, dt)\n",
        "# plt.plot(x1)\n",
        "# plt.plot(x2)\n",
        "# p1 = get_p(x1,dt)\n",
        "# p2 = get_p(x2,dt)\n",
        "# plt.plot(p1)\n",
        "# plt.plot(p2)\n",
        "p1,p2 = get_p(x1,x2,r,dt)\n",
        "alpha = 1e-4\n",
        "beta = 0.5\n",
        "tol = 1e-4\n",
        "\n",
        "for j in range(20):\n",
        "  x1 = get_trajectory_x1(u,x1_0,dt)\n",
        "  x2 = get_trajectory_x2(x1,x2_0,dt)\n",
        "\n",
        "  plt.scatter(j,J(x2,r,dt))\n",
        "\n",
        "  p1,p2 = get_p(x1,x2,r,dt)\n",
        "  v_i = minimize_hamiltonian(p1,p2,x1,x2,dt)\n",
        "\n",
        "  theta_u = dt*np.sum(np.dot(p1, v_i - u))\n",
        "\n",
        "  for l in range(10):\n",
        "\n",
        "    convex_combination = (1 - beta**l)*u + (beta**l)*v_i\n",
        "\n",
        "    x1_temp = get_trajectory_x1(convex_combination,x1_0,dt)\n",
        "    x2_temp = get_trajectory_x2(x1_temp,x2_0,dt)\n",
        "    if J(x2_temp,r,dt) - J(x2,r,dt) < alpha*(beta**l)*theta_u:\n",
        "      # print(l)\n",
        "      u = convex_combination\n",
        "      # plt.plot(u)\n",
        "      beta = beta/2\n",
        "      break\n",
        "x1_fin = get_trajectory_x1(u, x1_0,dt)\n",
        "x2_fin = get_trajectory_x2(x1_fin, x2_0,dt)\n",
        "plt.figure()\n",
        "plt.plot(t,x1_fin,color='b')\n",
        "plt.plot(t,x2_fin,color='g')\n",
        "# plt.hlines(y=3.0,xmin=0,xmax=1000,colors='r')\n",
        "plt.plot(t,r,color='r')"
      ],
      "metadata": {
        "colab": {
          "base_uri": "https://localhost:8080/",
          "height": 532
        },
        "id": "40a1BJ2slFCx",
        "outputId": "e558274b-aedc-4ec3-8114-ce451a3c1ec8"
      },
      "execution_count": null,
      "outputs": [
        {
          "output_type": "execute_result",
          "data": {
            "text/plain": [
              "[<matplotlib.lines.Line2D at 0x7f96c5c28a10>]"
            ]
          },
          "metadata": {},
          "execution_count": 19
        },
        {
          "output_type": "display_data",
          "data": {
            "text/plain": [
              "<Figure size 432x288 with 1 Axes>"
            ],
            "image/png": "[encoded data removed]"
          },
          "metadata": {
            "needs_background": "light"
          }
        },
        {
          "output_type": "display_data",
          "data": {
            "text/plain": [
              "<Figure size 432x288 with 1 Axes>"
            ],
            "image/png": "[encoded data removed]"
          },
          "metadata": {
            "needs_background": "light"
          }
        }
      ]
    },
    {
      "cell_type": "code",
      "source": [
        "plt.plot(u)"
      ],
      "metadata": {
        "colab": {
          "base_uri": "https://localhost:8080/",
          "height": 284
        },
        "id": "IkP76ixPOu9h",
        "outputId": "48632b99-e50a-47fc-b5bf-90b6077667f4"
      },
      "execution_count": null,
      "outputs": [
        {
          "output_type": "execute_result",
          "data": {
            "text/plain": [
              "[<matplotlib.lines.Line2D at 0x7fabddc769d0>]"
            ]
          },
          "metadata": {},
          "execution_count": 138
        },
        {
          "output_type": "display_data",
          "data": {
            "text/plain": [
              "<Figure size 432x288 with 1 Axes>"
            ],
            "image/png": "[encoded data removed]"
          },
          "metadata": {
            "needs_background": "light"
          }
        }
      ]
    },
    {
      "cell_type": "code",
      "source": [
        "x_fin = get_trajectory(u,x_0,dt)"
      ],
      "metadata": {
        "id": "OeEhr2YtPKzF"
      },
      "execution_count": null,
      "outputs": []
    },
    {
      "cell_type": "code",
      "source": [
        "plt.plot(x_fin)"
      ],
      "metadata": {
        "colab": {
          "base_uri": "https://localhost:8080/",
          "height": 283
        },
        "id": "-5J0rix0PksE",
        "outputId": "a76d9ece-a6c0-4b8f-8cbb-b4da1e8cea34"
      },
      "execution_count": null,
      "outputs": [
        {
          "output_type": "execute_result",
          "data": {
            "text/plain": [
              "[<matplotlib.lines.Line2D at 0x7fbb34b93c50>]"
            ]
          },
          "metadata": {},
          "execution_count": 38
        },
        {
          "output_type": "display_data",
          "data": {
            "text/plain": [
              "<Figure size 432x288 with 1 Axes>"
            ],
            "image/png": "[encoded data removed]"
          },
          "metadata": {
            "needs_background": "light"
          }
        }
      ]
    },
    {
      "cell_type": "code",
      "source": [
        "beta**l"
      ],
      "metadata": {
        "colab": {
          "base_uri": "https://localhost:8080/"
        },
        "id": "CZsGWKO5QIzS",
        "outputId": "08acc320-8866-49ba-acd3-489785920eaa"
      },
      "execution_count": null,
      "outputs": [
        {
          "output_type": "execute_result",
          "data": {
            "text/plain": [
              "0.001953125"
            ]
          },
          "metadata": {},
          "execution_count": 28
        }
      ]
    },
    {
      "cell_type": "code",
      "source": [
        "J(get_trajectory((1 - beta**l)*u + (beta**l)*u_new,x_0,dt),r,dt) - J(x,r,dt)"
      ],
      "metadata": {
        "colab": {
          "base_uri": "https://localhost:8080/"
        },
        "id": "rixKre58ZNcu",
        "outputId": "31c15bed-5897-4f0d-d5fe-f2c7caf6f48f"
      },
      "execution_count": null,
      "outputs": [
        {
          "output_type": "execute_result",
          "data": {
            "text/plain": [
              "0.011193922073761797"
            ]
          },
          "metadata": {},
          "execution_count": 52
        }
      ]
    },
    {
      "cell_type": "code",
      "source": [
        "min_set = np.arange(1,2,0.01)\n",
        "i=0\n",
        "np.argmin(p[i]*min_set + np.sqrt(x[i]))\n"
      ],
      "metadata": {
        "colab": {
          "base_uri": "https://localhost:8080/"
        },
        "id": "6PfBjMGNdGYn",
        "outputId": "b3f0d066-7a09-4bac-efe3-782f2d2290b5"
      },
      "execution_count": null,
      "outputs": [
        {
          "output_type": "execute_result",
          "data": {
            "text/plain": [
              "99"
            ]
          },
          "metadata": {},
          "execution_count": 17
        }
      ]
    },
    {
      "cell_type": "code",
      "source": [
        "p1"
      ],
      "metadata": {
        "id": "LA6FimredLGR",
        "colab": {
          "base_uri": "https://localhost:8080/"
        },
        "outputId": "b5ba834e-1574-431e-c5e4-34245d3c15b9"
      },
      "execution_count": null,
      "outputs": [
        {
          "output_type": "execute_result",
          "data": {
            "text/plain": [
              "array([array([-12.30554748, -16.20931234, -19.56480502, ...,  -2.71033841,\n",
              "               -5.04628995,  -8.40178263])                                ,\n",
              "       array([-12.31195319, -16.21468434, -19.56928851, ...,  -2.71928488,\n",
              "               -5.05461786,  -8.40922203])                                ,\n",
              "       array([-12.31839856, -16.22009089, -19.57380213, ...,  -2.72828362,\n",
              "               -5.06299499,  -8.41670622])                                ,\n",
              "       ...,\n",
              "       array([-0.00119599, -0.00141613, -0.00160535, ..., -0.00065491,\n",
              "              -0.00078663, -0.00097585])                              ,\n",
              "       array([-0.0004    , -0.00047362, -0.00053691, ..., -0.00021903,\n",
              "              -0.00026309, -0.00032637])                              , 0],\n",
              "      dtype=object)"
            ]
          },
          "metadata": {},
          "execution_count": 106
        }
      ]
    },
    {
      "cell_type": "code",
      "source": [
        "a=1\n",
        "type(a)"
      ],
      "metadata": {
        "colab": {
          "base_uri": "https://localhost:8080/"
        },
        "id": "FpCBjt74wx1B",
        "outputId": "a48c5b94-f85c-4f34-a888-e823cd90834b"
      },
      "execution_count": null,
      "outputs": [
        {
          "output_type": "execute_result",
          "data": {
            "text/plain": [
              "int"
            ]
          },
          "metadata": {},
          "execution_count": 123
        }
      ]
    },
    {
      "cell_type": "code",
      "source": [
        "np.sin(0.12*np.pi*30)"
      ],
      "metadata": {
        "id": "vlxQ-WYew5-S",
        "colab": {
          "base_uri": "https://localhost:8080/"
        },
        "outputId": "5d3d9976-f4a6-47f9-87aa-5821c5b309eb"
      },
      "execution_count": null,
      "outputs": [
        {
          "output_type": "execute_result",
          "data": {
            "text/plain": [
              "-0.9510565162951538"
            ]
          },
          "metadata": {},
          "execution_count": 135
        }
      ]
    },
    {
      "cell_type": "code",
      "source": [
        "x1_0 = 2\n",
        "x2_0 = 2\n",
        "dt = 0.01\n",
        "t = np.arange(1000)\n",
        "r = 3\n",
        "\n",
        "u = np.ones(1000)\n",
        "x1 = get_trajectory_x1(u, x1_0,dt)\n",
        "x2 = get_trajectory_x2(x1, x2_0, dt)\n",
        "\n",
        "costs = []\n",
        "\n",
        "for t_1 in range(0,3):\n",
        "  for t_2 in range(3,6):\n",
        "    for t_3 in range(6,9):\n",
        "      u = get_u(t_1,t_2,t_3,dt)\n",
        "      x1 = get_trajectory_x1(u, x1_0,dt)\n",
        "      x2 = get_trajectory_x2(x1, x2_0, dt)\n",
        "      cost = J(x2,r,dt)\n",
        "      costs.append([t_1,t_2,t_3, cost])"
      ],
      "metadata": {
        "id": "4M4QYp1Dy5-5"
      },
      "execution_count": null,
      "outputs": []
    },
    {
      "cell_type": "code",
      "source": [
        "costs_sorted = sorted(costs,key=lambda x:x[3])"
      ],
      "metadata": {
        "id": "FvcsObSwDpcj"
      },
      "execution_count": null,
      "outputs": []
    },
    {
      "cell_type": "code",
      "source": [
        "costs_sorted[0]"
      ],
      "metadata": {
        "colab": {
          "base_uri": "https://localhost:8080/"
        },
        "id": "HOQGgF1qD4Ff",
        "outputId": "8b3097ab-040e-4a95-c938-f21def374eff"
      },
      "execution_count": null,
      "outputs": [
        {
          "output_type": "execute_result",
          "data": {
            "text/plain": [
              "[1, 5, 7, 3.025338268825434]"
            ]
          },
          "metadata": {},
          "execution_count": 344
        }
      ]
    },
    {
      "cell_type": "code",
      "source": [
        "plt.plot(x2)\n",
        "plt.hlines(3,0,1000,'r')"
      ],
      "metadata": {
        "colab": {
          "base_uri": "https://localhost:8080/",
          "height": 284
        },
        "id": "1OxfEz7UD9Rx",
        "outputId": "b07f335c-2b45-4996-d5d6-e1658bf66cdb"
      },
      "execution_count": null,
      "outputs": [
        {
          "output_type": "execute_result",
          "data": {
            "text/plain": [
              "<matplotlib.collections.LineCollection at 0x7fabde6f0190>"
            ]
          },
          "metadata": {},
          "execution_count": 172
        },
        {
          "output_type": "display_data",
          "data": {
            "text/plain": [
              "<Figure size 432x288 with 1 Axes>"
            ],
            "image/png": "[encoded data removed]"
          },
          "metadata": {
            "needs_background": "light"
          }
        }
      ]
    },
    {
      "cell_type": "code",
      "source": [
        "plt.plot(get_single_u(5,dt))"
      ],
      "metadata": {
        "colab": {
          "base_uri": "https://localhost:8080/",
          "height": 284
        },
        "id": "8g2eMAWLFBuP",
        "outputId": "b3a4a4c0-a1a4-445e-9622-052221ca9ec4"
      },
      "execution_count": null,
      "outputs": [
        {
          "output_type": "execute_result",
          "data": {
            "text/plain": [
              "[<matplotlib.lines.Line2D at 0x7fabdc1ffa50>]"
            ]
          },
          "metadata": {},
          "execution_count": 197
        },
        {
          "output_type": "display_data",
          "data": {
            "text/plain": [
              "<Figure size 432x288 with 1 Axes>"
            ],
            "image/png": "[encoded data removed]"
          },
          "metadata": {
            "needs_background": "light"
          }
        }
      ]
    },
    {
      "cell_type": "code",
      "source": [
        "costs = []\n",
        "for t_1 in np.arange(0,10,0.01):\n",
        "  u = get_single_u(t_1,dt)\n",
        "  x1 = get_trajectory_x1(u,x1_0,dt)\n",
        "  x2 = get_trajectory_x2(x1,x2_0,dt)\n",
        "  cost = J(x2,r,dt)\n",
        "  costs.append([t_1,cost])\n",
        "print(sorted(costs, key=lambda x:x[1])[0])\n",
        "t_min = sorted(costs, key=lambda x:x[1])[0][0]\n",
        "u = get_single_u(t_min,dt)\n",
        "x1 = get_trajectory_x1(u,x1_0,dt)\n",
        "x2 = get_trajectory_x2(x1,x2_0,dt)\n",
        "plt.plot(x2)"
      ],
      "metadata": {
        "colab": {
          "base_uri": "https://localhost:8080/",
          "height": 302
        },
        "id": "gGuimksLZOLY",
        "outputId": "51d3f55f-8fe2-4421-f786-96f642eff245"
      },
      "execution_count": null,
      "outputs": [
        {
          "output_type": "stream",
          "name": "stdout",
          "text": [
            "[1.61, 11.45488438473011]\n"
          ]
        },
        {
          "output_type": "execute_result",
          "data": {
            "text/plain": [
              "[<matplotlib.lines.Line2D at 0x7fabdbc56190>]"
            ]
          },
          "metadata": {},
          "execution_count": 233
        },
        {
          "output_type": "display_data",
          "data": {
            "text/plain": [
              "<Figure size 432x288 with 1 Axes>"
            ],
            "image/png": "[encoded data removed]"
          },
          "metadata": {
            "needs_background": "light"
          }
        }
      ]
    },
    {
      "cell_type": "code",
      "source": [
        "plt.plot(x2)"
      ],
      "metadata": {
        "colab": {
          "base_uri": "https://localhost:8080/",
          "height": 284
        },
        "id": "dCKrBs8Sb4Gv",
        "outputId": "6049ebab-1a50-4811-a758-ba0dcb6198dc"
      },
      "execution_count": null,
      "outputs": [
        {
          "output_type": "execute_result",
          "data": {
            "text/plain": [
              "[<matplotlib.lines.Line2D at 0x7fabdbe24b10>]"
            ]
          },
          "metadata": {},
          "execution_count": 229
        },
        {
          "output_type": "display_data",
          "data": {
            "text/plain": [
              "<Figure size 432x288 with 1 Axes>"
            ],
            "image/png": "[encoded data removed]"
          },
          "metadata": {
            "needs_background": "light"
          }
        }
      ]
    },
    {
      "cell_type": "code",
      "source": [
        ""
      ],
      "metadata": {
        "colab": {
          "base_uri": "https://localhost:8080/"
        },
        "id": "fO9WP5z-b85b",
        "outputId": "ea27946e-d32c-4c3b-f21a-c6949d904297"
      },
      "execution_count": null,
      "outputs": [
        {
          "output_type": "execute_result",
          "data": {
            "text/plain": [
              "[[0.0, 35.51758855027392],\n",
              " [0.1, 32.89754745802376],\n",
              " [0.2, 30.38768756272799],\n",
              " [0.30000000000000004, 27.76507570900027],\n",
              " [0.4, 25.73504544286945],\n",
              " [0.5, 23.60984021322214],\n",
              " [0.6000000000000001, 21.440284529774495],\n",
              " [0.7000000000000001, 19.803506032904668],\n",
              " [0.8, 18.13826109136968],\n",
              " [0.9, 16.641735563638836],\n",
              " [1.0, 15.321136252440857],\n",
              " [1.1, 14.183364947449693],\n",
              " [1.2000000000000002, 13.150837800597529],\n",
              " [1.3, 12.482343397295182],\n",
              " [1.4000000000000001, 11.931301127700909],\n",
              " [1.5, 11.587483892506553],\n",
              " [1.6, 11.456141175965392],\n",
              " [1.7000000000000002, 11.56289497090821],\n",
              " [1.8, 11.85005766494948],\n",
              " [1.9000000000000001, 12.38395970757526],\n",
              " [2.0, 13.147596354101402],\n",
              " [2.1, 14.14428438868963],\n",
              " [2.2, 15.376914458961275],\n",
              " [2.3000000000000003, 16.847937299519664],\n",
              " [2.4000000000000004, 18.743775660373],\n",
              " [2.5, 20.51268204806737],\n",
              " [2.6, 22.708982457379612],\n",
              " [2.7, 25.148806134440264],\n",
              " [2.8000000000000003, 27.832201582652132],\n",
              " [2.9000000000000004, 31.06468537775747],\n",
              " [3.0, 33.92729847173382],\n",
              " [3.1, 37.3364607618298],\n",
              " [3.2, 40.98409674615321],\n",
              " [3.3000000000000003, 44.86755966770361],\n",
              " [3.4000000000000004, 49.40789888629117],\n",
              " [3.5, 53.32854896867719],\n",
              " [3.6, 57.8979353042995],\n",
              " [3.7, 62.68686099482091],\n",
              " [3.8000000000000003, 67.68981044671906],\n",
              " [3.9000000000000004, 73.43296051454342],\n",
              " [4.0, 78.3128225405054],\n",
              " [4.1000000000000005, 84.48995458905586],\n",
              " [4.2, 89.71130310163515],\n",
              " [4.3, 95.6814585640294],\n",
              " [4.4, 101.82050463512324],\n",
              " [4.5, 108.11897380441808],\n",
              " [4.6000000000000005, 114.56687213254902],\n",
              " [4.7, 121.15369496495975],\n",
              " [4.800000000000001, 128.54651817755624],\n",
              " [4.9, 134.69965154579174],\n",
              " [5.0, 141.63539461549306],\n",
              " [5.1000000000000005, 148.66332786602953],\n",
              " [5.2, 155.77070642997026],\n",
              " [5.300000000000001, 163.66492005914915],\n",
              " [5.4, 170.17100470031653],\n",
              " [5.5, 177.4367166335434],\n",
              " [5.6000000000000005, 184.7275286824006],\n",
              " [5.7, 192.02918898214273],\n",
              " [5.800000000000001, 200.05630690857186],\n",
              " [5.9, 206.60715186628542],\n",
              " [6.0, 213.85418802815298],\n",
              " [6.1000000000000005, 221.0536330948526],\n",
              " [6.2, 228.19075291895024],\n",
              " [6.300000000000001, 235.95207812264357],\n",
              " [6.4, 242.21939175909037],\n",
              " [6.5, 249.08191880566432],\n",
              " [6.6000000000000005, 255.8242510982368],\n",
              " [6.7, 262.4324739016696],\n",
              " [6.800000000000001, 269.530434892048],\n",
              " [6.9, 275.19270397636376],\n",
              " [7.0, 281.31884459376346],\n",
              " [7.1000000000000005, 287.2592728205365],\n",
              " [7.2, 293.00242762363996],\n",
              " [7.300000000000001, 299.07907030847804],\n",
              " [7.4, 303.8540912312476],\n",
              " [7.5, 308.94310216359554],\n",
              " [7.6000000000000005, 313.79598193213394],\n",
              " [7.7, 318.40520721231604],\n",
              " [7.800000000000001, 323.18619742412164],\n",
              " [7.9, 326.8677403184478],\n",
              " [8.0, 330.7113442225914],\n",
              " [8.1, 334.2920188933476],\n",
              " [8.200000000000001, 337.9249906759766],\n",
              " [8.3, 340.65879460133135],\n",
              " [8.4, 343.44541764805217],\n",
              " [8.5, 345.97027243791],\n",
              " [8.6, 348.23729272347134],\n",
              " [8.700000000000001, 350.25197511642006],\n",
              " [8.8, 352.0214249231622],\n",
              " [8.9, 353.55439723029554],\n",
              " [9.0, 354.8613326928355],\n",
              " [9.1, 355.9543874500445],\n",
              " [9.200000000000001, 356.8474565644624],\n",
              " [9.3, 357.5561903491531],\n",
              " [9.4, 358.09800291611646],\n",
              " [9.5, 358.49207224510536],\n",
              " [9.600000000000001, 358.7799401721299],\n",
              " [9.700000000000001, 358.92244757441017],\n",
              " [9.8, 359.00579578565123],\n",
              " [9.9, 359.03541363869397]]"
            ]
          },
          "metadata": {},
          "execution_count": 232
        }
      ]
    },
    {
      "cell_type": "code",
      "source": [
        "t_2"
      ],
      "metadata": {
        "colab": {
          "base_uri": "https://localhost:8080/"
        },
        "id": "K0TJESCIcAZ0",
        "outputId": "521705c2-5673-4ca0-8e49-17f3a097834a"
      },
      "execution_count": null,
      "outputs": [
        {
          "output_type": "execute_result",
          "data": {
            "text/plain": [
              "94.2121041469433"
            ]
          },
          "metadata": {},
          "execution_count": 271
        }
      ]
    },
    {
      "cell_type": "code",
      "source": [
        "t_2*dt"
      ],
      "metadata": {
        "colab": {
          "base_uri": "https://localhost:8080/"
        },
        "id": "_ZpQtsyEhh7b",
        "outputId": "ca2c7a7a-03aa-473c-a213-f01b6891d1e6"
      },
      "execution_count": null,
      "outputs": [
        {
          "output_type": "execute_result",
          "data": {
            "text/plain": [
              "0.9421210414694331"
            ]
          },
          "metadata": {},
          "execution_count": 272
        }
      ]
    },
    {
      "cell_type": "code",
      "source": [
        "costs = []\n",
        "for t_1 in tqdm.tqdm(np.arange(0,9.99,0.1)):\n",
        "  for t_2 in np.arange(t_1+0.01, 10,0.1):\n",
        "    u = get_double_u(t_1,t_2,dt)\n",
        "    x1 = get_trajectory_x1(u,x1_0,dt)\n",
        "    x2 = get_trajectory_x2(x1,x2_0,dt)\n",
        "    cost = J(x2,r,dt)\n",
        "    costs.append([t_1,t_2,cost])\n",
        "print(sorted(costs, key=lambda x:x[2])[0])\n",
        "t1_min = sorted(costs, key=lambda x:x[2])[0][0]\n",
        "t2_min = sorted(costs, key=lambda x:x[2])[0][1]\n",
        "u = get_double_u(t1_min,t2_min,dt)\n",
        "x1 = get_trajectory_x1(u,x1_0,dt)\n",
        "x2 = get_trajectory_x2(x1,x2_0,dt)\n",
        "plt.plot(x2)"
      ],
      "metadata": {
        "colab": {
          "base_uri": "https://localhost:8080/",
          "height": 321
        },
        "id": "FSLXPjcmhjTQ",
        "outputId": "711a6932-d513-4cd5-efff-ae381e2c1add"
      },
      "execution_count": null,
      "outputs": [
        {
          "output_type": "stream",
          "name": "stderr",
          "text": [
            "100%|██████████| 100/100 [00:47<00:00,  2.10it/s]"
          ]
        },
        {
          "output_type": "stream",
          "name": "stdout",
          "text": [
            "[1.3, 6.710000000000004, 4.903470485910912]\n"
          ]
        },
        {
          "output_type": "stream",
          "name": "stderr",
          "text": [
            "\n"
          ]
        },
        {
          "output_type": "execute_result",
          "data": {
            "text/plain": [
              "[<matplotlib.lines.Line2D at 0x7fabd9910e50>]"
            ]
          },
          "metadata": {},
          "execution_count": 352
        },
        {
          "output_type": "display_data",
          "data": {
            "text/plain": [
              "<Figure size 432x288 with 1 Axes>"
            ],
            "image/png": "[encoded data removed]"
          },
          "metadata": {
            "needs_background": "light"
          }
        }
      ]
    },
    {
      "cell_type": "code",
      "source": [
        "plt.plot(u)"
      ],
      "metadata": {
        "colab": {
          "base_uri": "https://localhost:8080/",
          "height": 284
        },
        "id": "RG2x9giUkluk",
        "outputId": "e9375a19-e9e9-4791-93b2-afea5db1a8a2"
      },
      "execution_count": null,
      "outputs": [
        {
          "output_type": "execute_result",
          "data": {
            "text/plain": [
              "[<matplotlib.lines.Line2D at 0x7fabdbc07590>]"
            ]
          },
          "metadata": {},
          "execution_count": 303
        },
        {
          "output_type": "display_data",
          "data": {
            "text/plain": [
              "<Figure size 432x288 with 1 Axes>"
            ],
            "image/png": "[encoded data removed]"
          },
          "metadata": {
            "needs_background": "light"
          }
        }
      ]
    },
    {
      "cell_type": "code",
      "source": [
        "# Best for 3 switching case:\n",
        "t1 = 1\n",
        "t2 = 4.7\n",
        "t3 = 6.2\n",
        "cost = 1.74"
      ],
      "metadata": {
        "id": "qzl_rDwJl8M6"
      },
      "execution_count": null,
      "outputs": []
    },
    {
      "cell_type": "code",
      "source": [
        ""
      ],
      "metadata": {
        "id": "gU6PuW2NpU_d"
      },
      "execution_count": null,
      "outputs": []
    }
  ]
}