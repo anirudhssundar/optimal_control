{
  "nbformat": 4,
  "nbformat_minor": 0,
  "metadata": {
    "colab": {
      "name": "6553_HW_10b.ipynb",
      "provenance": [],
      "collapsed_sections": [],
      "authorship_tag": "ABX9TyPHlq4qQ15yf70J9/7b7eLe",
      "include_colab_link": true
    },
    "kernelspec": {
      "name": "python3",
      "display_name": "Python 3"
    },
    "language_info": {
      "name": "python"
    }
  },
  "cells": [
    {
      "cell_type": "markdown",
      "metadata": {
        "id": "view-in-github",
        "colab_type": "text"
      },
      "source": [
        "<a href=\"https://colab.research.google.com/github/anirudhssundar/optimal_control/blob/main/6553_HW_10b.ipynb\" target=\"_parent\"><img src=\"https://colab.research.google.com/assets/colab-badge.svg\" alt=\"Open In Colab\"/></a>"
      ]
    },
    {
      "cell_type": "code",
      "execution_count": 2,
      "metadata": {
        "id": "775uZfaa2xvx"
      },
      "outputs": [],
      "source": [
        "import numpy as np\n",
        "import matplotlib.pyplot as plt"
      ]
    },
    {
      "cell_type": "code",
      "source": [
        "def get_p(x,dt):\n",
        "  # p = [x[-1]]\n",
        "  p = [0]\n",
        "  x_rev = x[::-1]\n",
        "  for i in range(1,len(x)):\n",
        "    # p_t_minus_dt = p[-1]*(1-dt) + 2*x_rev[i]*dt\n",
        "    p_t_minus_dt = p[-1] - dt*(p[-1]/(2*np.sqrt(x_rev[i])) - (x_rev[i]-2.5))\n",
        "    p.append(p_t_minus_dt)\n",
        "  return np.array(p[::-1])"
      ],
      "metadata": {
        "id": "VEy_5HR522H2"
      },
      "execution_count": 3,
      "outputs": []
    },
    {
      "cell_type": "code",
      "source": [
        "def get_u(t1,t2,dt):\n",
        "  t = np.arange(1000)\n",
        "  dynu = []\n",
        "  for i,foo in enumerate(t):\n",
        "    if foo*dt < t1:\n",
        "      dynu.append(2)\n",
        "    elif (foo*dt>=t1) and (foo*dt<t2):\n",
        "      dynu.append(1)\n",
        "    else:\n",
        "      dynu.append(2)\n",
        "  return dynu"
      ],
      "metadata": {
        "id": "9xjFxh6fwrBN"
      },
      "execution_count": 4,
      "outputs": []
    },
    {
      "cell_type": "code",
      "source": [
        "def J(x,r,dt):\n",
        "  val = 0.5*np.sum((x - r)**2)*dt\n",
        "  return val"
      ],
      "metadata": {
        "id": "x27y6rSbsg7k"
      },
      "execution_count": 5,
      "outputs": []
    },
    {
      "cell_type": "code",
      "source": [
        "def dyn_u(t1,t2,dt):\n",
        "  dynu = get_u(t1,t2,dt)\n",
        "  dynx = get_trajectory(dynu,1.5,dt)\n",
        "  cost = J(dynx,2.5,dt)\n",
        "  return cost"
      ],
      "metadata": {
        "id": "kYCBwkYqs53-"
      },
      "execution_count": 6,
      "outputs": []
    },
    {
      "cell_type": "code",
      "source": [
        "def get_trajectory(u,x_0,dt):\n",
        "  x = x_0\n",
        "  x_fin = []\n",
        "  x_fin.append(x_0)\n",
        "  for i in u:\n",
        "    x_dot = -np.sqrt(x) + i\n",
        "    x_new = x_dot*dt + x\n",
        "    x_fin.append(x_new)\n",
        "    x = x_new \n",
        "  return np.array(x_fin)"
      ],
      "metadata": {
        "id": "JX2ssEd24Fx8"
      },
      "execution_count": 7,
      "outputs": []
    },
    {
      "cell_type": "code",
      "source": [
        "x_0 = 1.5\n",
        "# t = 10\n",
        "r = 2.5\n",
        "t = np.arange(1000)\n",
        "dt = 0.01\n",
        "alpha=0.2\n",
        "beta=0.5\n",
        "tol = 1e-4\n",
        "\n",
        "# for split in np.arange(5,7):\n",
        "t_1 = 3\n",
        "t_2 = 9\n",
        "\n",
        "u = get_u(t_1,t_2,dt)\n",
        "x = np.array(get_trajectory(u,x_0,dt))\n",
        "p = get_p(x,dt)\n",
        "iters = 0\n",
        "\n",
        "# ARMIJO STUFF\n",
        "if abs(p[int(t_1*dt)])<tol:\n",
        "  print(\"done\")\n",
        "else:\n",
        "  while abs(p[int(t_1*dt)])>tol:\n",
        "    if iters==8:\n",
        "      break\n",
        "    k=0\n",
        "    while dyn_u(t_1 - (beta**k)*p[int(t_1*dt)],t_2,dt) > dyn_u(t_1,t_2,dt) -alpha*(beta**k)*(p[int(t_1*dt)]**2):\n",
        "      k+=1\n",
        "      # print(k)\n",
        "      # print(dyn_u(t_1 - (beta**k)*p[int(t_1*dt)],dt))\n",
        "\n",
        "      if k==10:\n",
        "        break\n",
        "    lambd = -(beta**k)/(beta**2)\n",
        "    # beta = beta*2\n",
        "    t_1 = t_1 + lambd*p[int(t_1*dt)]\n",
        "    plt.scatter(iters, dyn_u(t_1,t_2,dt))\n",
        "    print(\"t changed\",t_1)\n",
        "\n",
        "    u_new = get_u(t_1,t_2,dt)\n",
        "    x_new = get_trajectory(u_new, x_0,dt)\n",
        "    p = get_p(x_new,dt)\n",
        "    iters+=1\n",
        "\n",
        "\n",
        "alpha=0.2\n",
        "beta=0.5\n",
        "iters=0\n",
        "if abs(p[int(t_2*dt)])<tol:\n",
        "  print(\"done\")\n",
        "else:\n",
        "  while abs(p[int(t_2*dt)])>tol:\n",
        "    if iters==8:\n",
        "      break\n",
        "    k=0\n",
        "    while dyn_u(t_1,t_2 - (beta**k)*p[int(t_2*dt)],dt) > dyn_u(t_1,t_2,dt) -alpha*(beta**k)*(p[int(t_2*dt)]**2):\n",
        "      k+=1\n",
        "      # print(k)\n",
        "      # print(dyn_u(t_1 - (beta**k)*p[int(t_1*dt)],dt))\n",
        "\n",
        "      if k==10:\n",
        "        break\n",
        "    lambd = -(beta**k)/(beta**2)\n",
        "    # beta = beta*2\n",
        "    t_2 = t_2 + lambd*p[int(t_2*dt)]\n",
        "    plt.scatter(iters, dyn_u(t_1,t_2,dt))\n",
        "    print(\"t changed\",t_2)\n",
        "\n",
        "    u_new = get_u(t_1,t_2,dt)\n",
        "    x_new = get_trajectory(u_new, x_0,dt)\n",
        "    p = get_p(x_new,dt)\n",
        "    iters+=1\n",
        "#  J = 0.5*np.sum((x - r)**2)*dt\n",
        "  # print(split, J)\n",
        "print(t_1)\n",
        "print(t_2)\n",
        "fin_u = get_u(t_1,t_2,dt)\n",
        "fin_x = np.array(get_trajectory(fin_u,x_0,dt))\n",
        "fin_p = get_p(fin_x,dt)\n",
        "fin_cost = J(fin_x, r, dt)\n",
        "print(fin_cost)"
      ],
      "metadata": {
        "colab": {
          "base_uri": "https://localhost:8080/",
          "height": 610
        },
        "id": "nmMw2nDH4VUl",
        "outputId": "ac8b6945-b947-4511-b300-5d40d1148dbf"
      },
      "execution_count": 8,
      "outputs": [
        {
          "output_type": "stream",
          "name": "stdout",
          "text": [
            "t changed 6.9324329078496305\n",
            "t changed 5.984044545510011\n",
            "t changed 5.8266773842501625\n",
            "t changed 5.826674934098675\n",
            "t changed 5.826672483947188\n",
            "t changed 5.826670033795701\n",
            "t changed 5.826667583644214\n",
            "t changed 5.826665133492727\n",
            "t changed 8.999997549848512\n",
            "t changed 8.999995099697024\n",
            "t changed 8.999992649545536\n",
            "t changed 8.999990199394048\n",
            "t changed 8.99998774924256\n",
            "t changed 8.999985299091072\n",
            "t changed 8.999982848939585\n",
            "t changed 8.999980398788097\n",
            "5.826665133492727\n",
            "8.999980398788097\n",
            "1.6753495792204849\n"
          ]
        },
        {
          "output_type": "display_data",
          "data": {
            "text/plain": [
              "<Figure size 432x288 with 1 Axes>"
            ],
            "image/png": "[encoded data removed]"
          },
          "metadata": {
            "needs_background": "light"
          }
        }
      ]
    },
    {
      "cell_type": "code",
      "source": [
        "plt.plot(t,fin_x[:-1])"
      ],
      "metadata": {
        "colab": {
          "base_uri": "https://localhost:8080/",
          "height": 283
        },
        "id": "3GTbWAg54vfj",
        "outputId": "1dd96dfa-e531-4512-b944-b74b3e0f8bf1"
      },
      "execution_count": 9,
      "outputs": [
        {
          "output_type": "execute_result",
          "data": {
            "text/plain": [
              "[<matplotlib.lines.Line2D at 0x7fbee2923690>]"
            ]
          },
          "metadata": {},
          "execution_count": 9
        },
        {
          "output_type": "display_data",
          "data": {
            "text/plain": [
              "<Figure size 432x288 with 1 Axes>"
            ],
            "image/png": "[encoded data removed]"
          },
          "metadata": {
            "needs_background": "light"
          }
        }
      ]
    },
    {
      "cell_type": "code",
      "source": [
        "plt.plot(fin_u)"
      ],
      "metadata": {
        "colab": {
          "base_uri": "https://localhost:8080/",
          "height": 283
        },
        "id": "UVNVbwSf5vDr",
        "outputId": "f1d15929-61bb-4da0-ec80-25d205804d6c"
      },
      "execution_count": 10,
      "outputs": [
        {
          "output_type": "execute_result",
          "data": {
            "text/plain": [
              "[<matplotlib.lines.Line2D at 0x7fbee245ecd0>]"
            ]
          },
          "metadata": {},
          "execution_count": 10
        },
        {
          "output_type": "display_data",
          "data": {
            "text/plain": [
              "<Figure size 432x288 with 1 Axes>"
            ],
            "image/png": "[encoded data removed]"
          },
          "metadata": {
            "needs_background": "light"
          }
        }
      ]
    },
    {
      "cell_type": "code",
      "source": [
        "plt.plot(fin_p)"
      ],
      "metadata": {
        "colab": {
          "base_uri": "https://localhost:8080/",
          "height": 284
        },
        "id": "rQVLcXcf-c3A",
        "outputId": "d2656090-5217-49b3-832a-799f8259a16d"
      },
      "execution_count": 11,
      "outputs": [
        {
          "output_type": "execute_result",
          "data": {
            "text/plain": [
              "[<matplotlib.lines.Line2D at 0x7fbee2420250>]"
            ]
          },
          "metadata": {},
          "execution_count": 11
        },
        {
          "output_type": "display_data",
          "data": {
            "text/plain": [
              "<Figure size 432x288 with 1 Axes>"
            ],
            "image/png": "[encoded data removed]"
          },
          "metadata": {
            "needs_background": "light"
          }
        }
      ]
    },
    {
      "cell_type": "code",
      "source": [
        "x_0 = 1.5\n",
        "# t = 10\n",
        "r = 2.5\n",
        "t = np.arange(1000)\n",
        "dt = 0.01\n",
        "alpha1=0.2\n",
        "beta1=0.5\n",
        "\n",
        "alpha2=0.2\n",
        "beta2=0.5\n",
        "\n",
        "tol = 1e-4\n",
        "\n",
        "# for split in np.arange(5,7):\n",
        "t_1 = 3\n",
        "t_2 = 9\n",
        "\n",
        "u = get_u(t_1,t_2,dt)\n",
        "x = np.array(get_trajectory(u,x_0,dt))\n",
        "p = get_p(x,dt)\n",
        "iters = 0\n",
        "iters2 = 0\n",
        "\n",
        "# ARMIJO STUFF\n",
        "if abs(p[int(t_1*dt)])<tol:\n",
        "  print(\"done\")\n",
        "else:\n",
        "  while (abs(p[int(t_1*dt)])>tol) and (abs(p[int(t_2*dt)])>tol):\n",
        "    if iters==8:\n",
        "      break\n",
        "    k=0\n",
        "    while dyn_u(t_1 - (beta1**k)*p[int(t_1*dt)],t_2,dt) > dyn_u(t_1,t_2,dt) -alpha1*(beta1**k)*(p[int(t_1*dt)]**2):\n",
        "      k+=1\n",
        "      # print(k)\n",
        "      # print(dyn_u(t_1 - (beta**k)*p[int(t_1*dt)],dt))\n",
        "\n",
        "      if k==10:\n",
        "        break\n",
        "    lambd1 = -(beta1**k)/(beta1**2)\n",
        "    # beta = beta*2\n",
        "    t_1 = t_1 + lambd1*p[int(t_1*dt)]\n",
        "    plt.scatter(iters, dyn_u(t_1,t_2,dt))\n",
        "    print(\"t changed\",t_1)\n",
        "\n",
        "    u_new = get_u(t_1,t_2,dt)\n",
        "    x_new = get_trajectory(u_new, x_0,dt)\n",
        "    p = get_p(x_new,dt)\n",
        "    # iters+=1\n",
        "\n",
        "    k=0\n",
        "    while dyn_u(t_1,t_2 - (beta2**k)*p[int(t_2*dt)],dt) > dyn_u(t_1,t_2,dt) -alpha2*(beta2**k)*(p[int(t_2*dt)]**2):\n",
        "      k+=1\n",
        "      # print(k)\n",
        "      # print(dyn_u(t_1 - (beta**k)*p[int(t_1*dt)],dt))\n",
        "\n",
        "      if k==10:\n",
        "        break\n",
        "    lambd2 = -(beta2**k)/(beta2**2)\n",
        "    # beta = beta*2\n",
        "    t_2 = t_2 + lambd2*p[int(t_2*dt)]\n",
        "    plt.scatter(iters, dyn_u(t_1,t_2,dt))\n",
        "    print(\"t changed\",t_2)\n",
        "\n",
        "    u_new = get_u(t_1,t_2,dt)\n",
        "    x_new = get_trajectory(u_new, x_0,dt)\n",
        "    p = get_p(x_new,dt)\n",
        "    iters+=1\n",
        "\n",
        "\n",
        "print(t_1)\n",
        "print(t_2)\n",
        "fin_u = get_u(t_1,t_2,dt)\n",
        "fin_x = np.array(get_trajectory(fin_u,x_0,dt))\n",
        "fin_p = get_p(fin_x,dt)\n",
        "fin_cost = J(fin_x, r, dt)\n",
        "print(fin_cost)"
      ],
      "metadata": {
        "id": "hN-10OIOVMN4",
        "colab": {
          "base_uri": "https://localhost:8080/",
          "height": 429
        },
        "outputId": "cecc161c-7caa-4155-9d46-a9893810b731"
      },
      "execution_count": 12,
      "outputs": [
        {
          "output_type": "stream",
          "name": "stdout",
          "text": [
            "t changed 6.9324329078496305\n",
            "t changed 8.999073839489903\n",
            "t changed 5.984044545510011\n",
            "t changed 8.841706678230054\n",
            "t changed 5.798635467620442\n",
            "t changed 8.841706783991139\n",
            "5.798635467620442\n",
            "8.841706783991139\n",
            "1.611404062284186\n"
          ]
        },
        {
          "output_type": "display_data",
          "data": {
            "text/plain": [
              "<Figure size 432x288 with 1 Axes>"
            ],
            "image/png": "[encoded data removed]"
          },
          "metadata": {
            "needs_background": "light"
          }
        }
      ]
    },
    {
      "cell_type": "code",
      "source": [
        "plt.plot(t,fin_x[:-1])"
      ],
      "metadata": {
        "colab": {
          "base_uri": "https://localhost:8080/",
          "height": 283
        },
        "id": "-6t_0J42ZHsx",
        "outputId": "3cf4a27e-93ad-4803-a389-6abb89aeb836"
      },
      "execution_count": 13,
      "outputs": [
        {
          "output_type": "execute_result",
          "data": {
            "text/plain": [
              "[<matplotlib.lines.Line2D at 0x7fbee2375290>]"
            ]
          },
          "metadata": {},
          "execution_count": 13
        },
        {
          "output_type": "display_data",
          "data": {
            "text/plain": [
              "<Figure size 432x288 with 1 Axes>"
            ],
            "image/png": "[encoded data removed]"
          },
          "metadata": {
            "needs_background": "light"
          }
        }
      ]
    },
    {
      "cell_type": "code",
      "source": [
        "plt.plot(t,fin_u)"
      ],
      "metadata": {
        "colab": {
          "base_uri": "https://localhost:8080/",
          "height": 283
        },
        "id": "QdZxew2GZXRQ",
        "outputId": "b51fff6a-b04e-42db-8cb5-5054b6c5f73f"
      },
      "execution_count": 14,
      "outputs": [
        {
          "output_type": "execute_result",
          "data": {
            "text/plain": [
              "[<matplotlib.lines.Line2D at 0x7fbee22f4f50>]"
            ]
          },
          "metadata": {},
          "execution_count": 14
        },
        {
          "output_type": "display_data",
          "data": {
            "text/plain": [
              "<Figure size 432x288 with 1 Axes>"
            ],
            "image/png": "[encoded data removed]"
          },
          "metadata": {
            "needs_background": "light"
          }
        }
      ]
    },
    {
      "cell_type": "code",
      "source": [
        "plt.plot(fin_p)"
      ],
      "metadata": {
        "colab": {
          "base_uri": "https://localhost:8080/",
          "height": 284
        },
        "id": "hURWf0YxZYZ7",
        "outputId": "6b4f982d-2746-4230-8403-10d0e529cda8"
      },
      "execution_count": 15,
      "outputs": [
        {
          "output_type": "execute_result",
          "data": {
            "text/plain": [
              "[<matplotlib.lines.Line2D at 0x7fbee22e07d0>]"
            ]
          },
          "metadata": {},
          "execution_count": 15
        },
        {
          "output_type": "display_data",
          "data": {
            "text/plain": [
              "<Figure size 432x288 with 1 Axes>"
            ],
            "image/png": "[encoded data removed]"
          },
          "metadata": {
            "needs_background": "light"
          }
        }
      ]
    },
    {
      "cell_type": "code",
      "source": [
        "(2-np.sqrt(2.5))"
      ],
      "metadata": {
        "colab": {
          "base_uri": "https://localhost:8080/"
        },
        "id": "j5ey3uL7ZcdP",
        "outputId": "9a643390-4ff6-4eb2-bd34-cda638b2a7e5"
      },
      "execution_count": 16,
      "outputs": [
        {
          "output_type": "execute_result",
          "data": {
            "text/plain": [
              "0.41886116991581024"
            ]
          },
          "metadata": {},
          "execution_count": 16
        }
      ]
    },
    {
      "cell_type": "code",
      "source": [
        "np.sqrt(2.5)-1"
      ],
      "metadata": {
        "colab": {
          "base_uri": "https://localhost:8080/"
        },
        "id": "KLC9JBf7Zb1j",
        "outputId": "7622ec5a-58f9-4b18-81d9-1eb18165f4d1"
      },
      "execution_count": 17,
      "outputs": [
        {
          "output_type": "execute_result",
          "data": {
            "text/plain": [
              "0.5811388300841898"
            ]
          },
          "metadata": {},
          "execution_count": 17
        }
      ]
    },
    {
      "cell_type": "code",
      "source": [
        "# Part c\n",
        "r = 2.5\n",
        "alpha_t = np.sqrt(r)-1\n",
        "t = np.arange(1000)\n",
        "dt = 0.01\n",
        "\n",
        "x_0 = 1.5\n",
        "\n",
        "u_relaxed = np.array([2]) # Make u such that x stops at r on the last step\n",
        "flag=0\n",
        "for i in range(1,len(t)):\n",
        "  x_temp = get_trajectory(u_relaxed,x_0,dt)\n",
        "  # print(len(x_temp))\n",
        "  if (x_temp[-1] <r):\n",
        "    u_relaxed=np.append(u_relaxed,2)\n",
        "  else:\n",
        "    # flag=1\n",
        "    # print(\"here\")\n",
        "    # u_relaxed = np.append(u_relaxed, randnum(alpha))\n",
        "    # u_relaxed = np.append(u_relaxed,1)\n",
        "    break\n",
        "\n",
        "remaining_length = len(t) - len(u_relaxed)\n",
        "\n",
        "# Divide remaining length into 5 sample pulses\n",
        "for i in range(int(remaining_length/5)): \n",
        "  u_relaxed = np.append(u_relaxed,np.array([2,1,2,1,2]))\n",
        "\n",
        "\n",
        "x_fin = get_trajectory(u_relaxed, x_0, dt)\n",
        "plt.plot(x_fin)\n"
      ],
      "metadata": {
        "colab": {
          "base_uri": "https://localhost:8080/",
          "height": 285
        },
        "id": "gmEL1XxraBV6",
        "outputId": "b75c4540-ae0b-487d-f4f0-4dfa721796bf"
      },
      "execution_count": 104,
      "outputs": [
        {
          "output_type": "execute_result",
          "data": {
            "text/plain": [
              "[<matplotlib.lines.Line2D at 0x7fbed9258850>]"
            ]
          },
          "metadata": {},
          "execution_count": 104
        },
        {
          "output_type": "display_data",
          "data": {
            "text/plain": [
              "<Figure size 432x288 with 1 Axes>"
            ],
            "image/png": "[encoded data removed]"
          },
          "metadata": {
            "needs_background": "light"
          }
        }
      ]
    },
    {
      "cell_type": "code",
      "source": [
        "plt.plot(u_relaxed)"
      ],
      "metadata": {
        "colab": {
          "base_uri": "https://localhost:8080/",
          "height": 283
        },
        "id": "PBvk6I4baqNh",
        "outputId": "83a19bdd-7e4a-40dd-8a29-0a60b950e223"
      },
      "execution_count": 105,
      "outputs": [
        {
          "output_type": "execute_result",
          "data": {
            "text/plain": [
              "[<matplotlib.lines.Line2D at 0x7fbed91c7650>]"
            ]
          },
          "metadata": {},
          "execution_count": 105
        },
        {
          "output_type": "display_data",
          "data": {
            "text/plain": [
              "<Figure size 432x288 with 1 Axes>"
            ],
            "image/png": "[encoded data removed]"
          },
          "metadata": {
            "needs_background": "light"
          }
        }
      ]
    },
    {
      "cell_type": "code",
      "source": [
        "val = J(x_temp,r,dt)\n",
        "print(val)"
      ],
      "metadata": {
        "colab": {
          "base_uri": "https://localhost:8080/"
        },
        "id": "deC1uIo0cWP1",
        "outputId": "64a118e1-33ee-469d-d311-1f2077478b69"
      },
      "execution_count": 106,
      "outputs": [
        {
          "output_type": "stream",
          "name": "stdout",
          "text": [
            "0.2505426408461479\n"
          ]
        }
      ]
    },
    {
      "cell_type": "code",
      "source": [
        "import random\n",
        "def randnum(alpha):\n",
        "  return 2 if random.random()<alpha else 1"
      ],
      "metadata": {
        "id": "Rf3ozqEBcYLb"
      },
      "execution_count": 60,
      "outputs": []
    },
    {
      "cell_type": "code",
      "source": [
        "remaining_length/5"
      ],
      "metadata": {
        "colab": {
          "base_uri": "https://localhost:8080/"
        },
        "id": "9f356wfic9DV",
        "outputId": "a95a8b41-3750-4481-bed7-810ba41874d4"
      },
      "execution_count": 99,
      "outputs": [
        {
          "output_type": "execute_result",
          "data": {
            "text/plain": [
              "165.0"
            ]
          },
          "metadata": {},
          "execution_count": 99
        }
      ]
    },
    {
      "cell_type": "code",
      "source": [
        ""
      ],
      "metadata": {
        "id": "40a1BJ2slFCx"
      },
      "execution_count": null,
      "outputs": []
    }
  ]
}