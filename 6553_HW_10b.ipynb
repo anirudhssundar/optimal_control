{
  "nbformat": 4,
  "nbformat_minor": 0,
  "metadata": {
    "colab": {
      "name": "6553_HW_10b.ipynb",
      "provenance": [],
      "collapsed_sections": [],
      "authorship_tag": "ABX9TyNR+6+mFyr67iBLeo6hp5UC",
      "include_colab_link": true
    },
    "kernelspec": {
      "name": "python3",
      "display_name": "Python 3"
    },
    "language_info": {
      "name": "python"
    }
  },
  "cells": [
    {
      "cell_type": "markdown",
      "metadata": {
        "id": "view-in-github",
        "colab_type": "text"
      },
      "source": [
        "<a href=\"https://colab.research.google.com/github/anirudhssundar/optimal_control/blob/main/6553_HW_10b.ipynb\" target=\"_parent\"><img src=\"https://colab.research.google.com/assets/colab-badge.svg\" alt=\"Open In Colab\"/></a>"
      ]
    },
    {
      "cell_type": "code",
      "execution_count": 7,
      "metadata": {
        "id": "775uZfaa2xvx"
      },
      "outputs": [],
      "source": [
        "import numpy as np\n",
        "import matplotlib.pyplot as plt"
      ]
    },
    {
      "cell_type": "code",
      "source": [
        "def get_p(x,dt):\n",
        "  # p = [x[-1]]\n",
        "  p = [0]\n",
        "  x_rev = x[::-1]\n",
        "  for i in range(1,len(x)):\n",
        "    # p_t_minus_dt = p[-1]*(1-dt) + 2*x_rev[i]*dt\n",
        "    p_t_minus_dt = p[-1] - dt*(p[-1]/(2*np.sqrt(x_rev[i])) - (x_rev[i]-2.5))\n",
        "    p.append(p_t_minus_dt)\n",
        "  return np.array(p[::-1])"
      ],
      "metadata": {
        "id": "VEy_5HR522H2"
      },
      "execution_count": 8,
      "outputs": []
    },
    {
      "cell_type": "code",
      "source": [
        "def get_u(t1,t2,dt):\n",
        "  t = np.arange(1000)\n",
        "  dynu = []\n",
        "  for i,foo in enumerate(t):\n",
        "    if foo*dt < t1:\n",
        "      dynu.append(2)\n",
        "    elif (foo*dt>=t1) and (foo*dt<t2):\n",
        "      dynu.append(1)\n",
        "    else:\n",
        "      dynu.append(2)\n",
        "  return dynu"
      ],
      "metadata": {
        "id": "9xjFxh6fwrBN"
      },
      "execution_count": 9,
      "outputs": []
    },
    {
      "cell_type": "code",
      "source": [
        "def J(x,r,dt):\n",
        "  val = 0.5*np.sum((x - r)**2)*dt\n",
        "  return val"
      ],
      "metadata": {
        "id": "x27y6rSbsg7k"
      },
      "execution_count": 10,
      "outputs": []
    },
    {
      "cell_type": "code",
      "source": [
        "def dyn_u(t1,t2,dt):\n",
        "  dynu = get_u(t1,t2,dt)\n",
        "  dynx = get_trajectory(dynu,1.5,dt)\n",
        "  cost = J(dynx,2.5,dt)\n",
        "  return cost"
      ],
      "metadata": {
        "id": "kYCBwkYqs53-"
      },
      "execution_count": 11,
      "outputs": []
    },
    {
      "cell_type": "code",
      "source": [
        "def get_trajectory(u,x_0,dt):\n",
        "  x = x_0\n",
        "  x_fin = []\n",
        "  x_fin.append(x_0)\n",
        "  for i in u:\n",
        "    x_dot = -np.sqrt(x) + i\n",
        "    x_new = x_dot*dt + x\n",
        "    x_fin.append(x_new)\n",
        "    x = x_new \n",
        "  return np.array(x_fin)"
      ],
      "metadata": {
        "id": "JX2ssEd24Fx8"
      },
      "execution_count": 12,
      "outputs": []
    },
    {
      "cell_type": "code",
      "source": [
        "x_0 = 1.5\n",
        "# t = 10\n",
        "r = 2.5\n",
        "t = np.arange(1000)\n",
        "dt = 0.01\n",
        "alpha=0.2\n",
        "beta=0.5\n",
        "tol = 1e-4\n",
        "\n",
        "# for split in np.arange(5,7):\n",
        "t_1 = 3\n",
        "t_2 = 9\n",
        "\n",
        "u = get_u(t_1,t_2,dt)\n",
        "x = np.array(get_trajectory(u,x_0,dt))\n",
        "p = get_p(x,dt)\n",
        "iters = 0\n",
        "\n",
        "# ARMIJO STUFF\n",
        "if abs(p[int(t_1*dt)])<tol:\n",
        "  print(\"done\")\n",
        "else:\n",
        "  while abs(p[int(t_1*dt)])>tol:\n",
        "    if iters==8:\n",
        "      break\n",
        "    k=0\n",
        "    while dyn_u(t_1 - (beta**k)*p[int(t_1*dt)],t_2,dt) > dyn_u(t_1,t_2,dt) -alpha*(beta**k)*(p[int(t_1*dt)]**2):\n",
        "      k+=1\n",
        "      # print(k)\n",
        "      # print(dyn_u(t_1 - (beta**k)*p[int(t_1*dt)],dt))\n",
        "\n",
        "      if k==10:\n",
        "        break\n",
        "    lambd = -(beta**k)/(beta**2)\n",
        "    # beta = beta*2\n",
        "    t_1 = t_1 + lambd*p[int(t_1*dt)]\n",
        "    plt.scatter(iters, dyn_u(t_1,t_2,dt))\n",
        "    print(\"t changed\",t_1)\n",
        "\n",
        "    u_new = get_u(t_1,t_2,dt)\n",
        "    x_new = get_trajectory(u_new, x_0,dt)\n",
        "    p = get_p(x_new,dt)\n",
        "    iters+=1\n",
        "\n",
        "\n",
        "alpha=0.2\n",
        "beta=0.5\n",
        "iters=0\n",
        "if abs(p[int(t_2*dt)])<tol:\n",
        "  print(\"done\")\n",
        "else:\n",
        "  while abs(p[int(t_2*dt)])>tol:\n",
        "    if iters==8:\n",
        "      break\n",
        "    k=0\n",
        "    while dyn_u(t_1,t_2 - (beta**k)*p[int(t_2*dt)],dt) > dyn_u(t_1,t_2,dt) -alpha*(beta**k)*(p[int(t_2*dt)]**2):\n",
        "      k+=1\n",
        "      # print(k)\n",
        "      # print(dyn_u(t_1 - (beta**k)*p[int(t_1*dt)],dt))\n",
        "\n",
        "      if k==10:\n",
        "        break\n",
        "    lambd = -(beta**k)/(beta**2)\n",
        "    # beta = beta*2\n",
        "    t_2 = t_2 + lambd*p[int(t_2*dt)]\n",
        "    plt.scatter(iters, dyn_u(t_1,t_2,dt))\n",
        "    print(\"t changed\",t_2)\n",
        "\n",
        "    u_new = get_u(t_1,t_2,dt)\n",
        "    x_new = get_trajectory(u_new, x_0,dt)\n",
        "    p = get_p(x_new,dt)\n",
        "    iters+=1\n",
        "#  J = 0.5*np.sum((x - r)**2)*dt\n",
        "  # print(split, J)\n",
        "print(t_1)\n",
        "print(t_2)\n",
        "fin_u = get_u(t_1,t_2,dt)\n",
        "fin_x = np.array(get_trajectory(fin_u,x_0,dt))\n",
        "fin_p = get_p(fin_x,dt)\n",
        "fin_cost = J(fin_x, r, dt)\n",
        "print(fin_cost)"
      ],
      "metadata": {
        "colab": {
          "base_uri": "https://localhost:8080/",
          "height": 610
        },
        "id": "nmMw2nDH4VUl",
        "outputId": "f52ec50a-1919-4031-9d3e-b14372b1a9d7"
      },
      "execution_count": 19,
      "outputs": [
        {
          "output_type": "stream",
          "name": "stdout",
          "text": [
            "t changed 6.9324329078496305\n",
            "t changed 5.984044545510011\n",
            "t changed 5.8266773842501625\n",
            "t changed 5.826674934098675\n",
            "t changed 5.826672483947188\n",
            "t changed 5.826670033795701\n",
            "t changed 5.826667583644214\n",
            "t changed 5.826665133492727\n",
            "t changed 8.999997549848512\n",
            "t changed 8.999995099697024\n",
            "t changed 8.999992649545536\n",
            "t changed 8.999990199394048\n",
            "t changed 8.99998774924256\n",
            "t changed 8.999985299091072\n",
            "t changed 8.999982848939585\n",
            "t changed 8.999980398788097\n",
            "5.826665133492727\n",
            "8.999980398788097\n",
            "1.6753495792204849\n"
          ]
        },
        {
          "output_type": "display_data",
          "data": {
            "text/plain": [
              "<Figure size 432x288 with 1 Axes>"
            ],
            "image/png": "[encoded data removed]"
          },
          "metadata": {
            "needs_background": "light"
          }
        }
      ]
    },
    {
      "cell_type": "code",
      "source": [
        "plt.plot(t,fin_x[:-1])"
      ],
      "metadata": {
        "colab": {
          "base_uri": "https://localhost:8080/",
          "height": 283
        },
        "id": "3GTbWAg54vfj",
        "outputId": "e7fdc2f8-69a7-4f7a-afb0-7bccde35965b"
      },
      "execution_count": 20,
      "outputs": [
        {
          "output_type": "execute_result",
          "data": {
            "text/plain": [
              "[<matplotlib.lines.Line2D at 0x7fd6a50d4050>]"
            ]
          },
          "metadata": {},
          "execution_count": 20
        },
        {
          "output_type": "display_data",
          "data": {
            "text/plain": [
              "<Figure size 432x288 with 1 Axes>"
            ],
            "image/png": "[encoded data removed]"
          },
          "metadata": {
            "needs_background": "light"
          }
        }
      ]
    },
    {
      "cell_type": "code",
      "source": [
        "plt.plot(fin_u)"
      ],
      "metadata": {
        "colab": {
          "base_uri": "https://localhost:8080/",
          "height": 283
        },
        "id": "UVNVbwSf5vDr",
        "outputId": "ebbe7e87-631d-4219-b0c4-4fdb35eb1d26"
      },
      "execution_count": 21,
      "outputs": [
        {
          "output_type": "execute_result",
          "data": {
            "text/plain": [
              "[<matplotlib.lines.Line2D at 0x7fd6a5057210>]"
            ]
          },
          "metadata": {},
          "execution_count": 21
        },
        {
          "output_type": "display_data",
          "data": {
            "text/plain": [
              "<Figure size 432x288 with 1 Axes>"
            ],
            "image/png": "[encoded data removed]"
          },
          "metadata": {
            "needs_background": "light"
          }
        }
      ]
    },
    {
      "cell_type": "code",
      "source": [
        "plt.plot(fin_p)"
      ],
      "metadata": {
        "colab": {
          "base_uri": "https://localhost:8080/",
          "height": 283
        },
        "id": "rQVLcXcf-c3A",
        "outputId": "ab37d57b-884b-4e20-ce6b-9b5c76e8e9fd"
      },
      "execution_count": null,
      "outputs": [
        {
          "output_type": "execute_result",
          "data": {
            "text/plain": [
              "[<matplotlib.lines.Line2D at 0x7f9d627add50>]"
            ]
          },
          "metadata": {},
          "execution_count": 119
        },
        {
          "output_type": "display_data",
          "data": {
            "text/plain": [
              "<Figure size 432x288 with 1 Axes>"
            ],
            "image/png": "[encoded data removed]"
          },
          "metadata": {
            "needs_background": "light"
          }
        }
      ]
    },
    {
      "cell_type": "code",
      "source": [
        "x_0 = 1.5\n",
        "# t = 10\n",
        "r = 2.5\n",
        "t = np.arange(1000)\n",
        "dt = 0.01\n",
        "alpha1=0.2\n",
        "beta1=0.5\n",
        "\n",
        "alpha2=0.2\n",
        "beta2=0.5\n",
        "\n",
        "tol = 1e-4\n",
        "\n",
        "# for split in np.arange(5,7):\n",
        "t_1 = 3\n",
        "t_2 = 9\n",
        "\n",
        "u = get_u(t_1,t_2,dt)\n",
        "x = np.array(get_trajectory(u,x_0,dt))\n",
        "p = get_p(x,dt)\n",
        "iters = 0\n",
        "iters2 = 0\n",
        "\n",
        "# ARMIJO STUFF\n",
        "if abs(p[int(t_1*dt)])<tol:\n",
        "  print(\"done\")\n",
        "else:\n",
        "  while (abs(p[int(t_1*dt)])>tol) and (abs(p[int(t_2*dt)])>tol):\n",
        "    if iters==8:\n",
        "      break\n",
        "    k=0\n",
        "    while dyn_u(t_1 - (beta1**k)*p[int(t_1*dt)],t_2,dt) > dyn_u(t_1,t_2,dt) -alpha1*(beta1**k)*(p[int(t_1*dt)]**2):\n",
        "      k+=1\n",
        "      # print(k)\n",
        "      # print(dyn_u(t_1 - (beta**k)*p[int(t_1*dt)],dt))\n",
        "\n",
        "      if k==10:\n",
        "        break\n",
        "    lambd1 = -(beta1**k)/(beta1**2)\n",
        "    # beta = beta*2\n",
        "    t_1 = t_1 + lambd1*p[int(t_1*dt)]\n",
        "    plt.scatter(iters, dyn_u(t_1,t_2,dt))\n",
        "    print(\"t changed\",t_1)\n",
        "\n",
        "    u_new = get_u(t_1,t_2,dt)\n",
        "    x_new = get_trajectory(u_new, x_0,dt)\n",
        "    p = get_p(x_new,dt)\n",
        "    # iters+=1\n",
        "\n",
        "    k=0\n",
        "    while dyn_u(t_1,t_2 - (beta2**k)*p[int(t_2*dt)],dt) > dyn_u(t_1,t_2,dt) -alpha2*(beta2**k)*(p[int(t_2*dt)]**2):\n",
        "      k+=1\n",
        "      # print(k)\n",
        "      # print(dyn_u(t_1 - (beta**k)*p[int(t_1*dt)],dt))\n",
        "\n",
        "      if k==10:\n",
        "        break\n",
        "    lambd2 = -(beta2**k)/(beta2**2)\n",
        "    # beta = beta*2\n",
        "    t_2 = t_2 + lambd2*p[int(t_2*dt)]\n",
        "    plt.scatter(iters, dyn_u(t_1,t_2,dt))\n",
        "    print(\"t changed\",t_2)\n",
        "\n",
        "    u_new = get_u(t_1,t_2,dt)\n",
        "    x_new = get_trajectory(u_new, x_0,dt)\n",
        "    p = get_p(x_new,dt)\n",
        "    iters+=1\n",
        "\n",
        "\n",
        "print(t_1)\n",
        "print(t_2)\n",
        "fin_u = get_u(t_1,t_2,dt)\n",
        "fin_x = np.array(get_trajectory(fin_u,x_0,dt))\n",
        "fin_p = get_p(fin_x,dt)\n",
        "fin_cost = J(fin_x, r, dt)\n",
        "print(fin_cost)"
      ],
      "metadata": {
        "id": "hN-10OIOVMN4",
        "colab": {
          "base_uri": "https://localhost:8080/",
          "height": 429
        },
        "outputId": "ad6172ca-7ba2-42a1-e9a6-19012349ad33"
      },
      "execution_count": 24,
      "outputs": [
        {
          "output_type": "stream",
          "name": "stdout",
          "text": [
            "t changed 6.9324329078496305\n",
            "t changed 8.999073839489903\n",
            "t changed 5.984044545510011\n",
            "t changed 8.841706678230054\n",
            "t changed 5.798635467620442\n",
            "t changed 8.841706783991139\n",
            "5.798635467620442\n",
            "8.841706783991139\n",
            "1.611404062284186\n"
          ]
        },
        {
          "output_type": "display_data",
          "data": {
            "text/plain": [
              "<Figure size 432x288 with 1 Axes>"
            ],
            "image/png": "[encoded data removed]"
          },
          "metadata": {
            "needs_background": "light"
          }
        }
      ]
    },
    {
      "cell_type": "code",
      "source": [
        "plt.plot(t,fin_x[:-1])"
      ],
      "metadata": {
        "colab": {
          "base_uri": "https://localhost:8080/",
          "height": 283
        },
        "id": "-6t_0J42ZHsx",
        "outputId": "53b6d8ce-e614-4d71-ebdd-63af72725ba9"
      },
      "execution_count": 25,
      "outputs": [
        {
          "output_type": "execute_result",
          "data": {
            "text/plain": [
              "[<matplotlib.lines.Line2D at 0x7fd6a4f55290>]"
            ]
          },
          "metadata": {},
          "execution_count": 25
        },
        {
          "output_type": "display_data",
          "data": {
            "text/plain": [
              "<Figure size 432x288 with 1 Axes>"
            ],
            "image/png": "[encoded data removed]"
          },
          "metadata": {
            "needs_background": "light"
          }
        }
      ]
    },
    {
      "cell_type": "code",
      "source": [
        "plt.plot(t,fin_u)"
      ],
      "metadata": {
        "colab": {
          "base_uri": "https://localhost:8080/",
          "height": 283
        },
        "id": "QdZxew2GZXRQ",
        "outputId": "cd4b16fa-4861-49d5-d98f-215b1f5c9d6d"
      },
      "execution_count": 27,
      "outputs": [
        {
          "output_type": "execute_result",
          "data": {
            "text/plain": [
              "[<matplotlib.lines.Line2D at 0x7fd6a4c8cb10>]"
            ]
          },
          "metadata": {},
          "execution_count": 27
        },
        {
          "output_type": "display_data",
          "data": {
            "text/plain": [
              "<Figure size 432x288 with 1 Axes>"
            ],
            "image/png": "[encoded data removed]"
          },
          "metadata": {
            "needs_background": "light"
          }
        }
      ]
    },
    {
      "cell_type": "code",
      "source": [
        "plt.plot(fin_p)"
      ],
      "metadata": {
        "colab": {
          "base_uri": "https://localhost:8080/",
          "height": 284
        },
        "id": "hURWf0YxZYZ7",
        "outputId": "43ebb1c0-a64d-4df3-cf78-34885ac6ff66"
      },
      "execution_count": 29,
      "outputs": [
        {
          "output_type": "execute_result",
          "data": {
            "text/plain": [
              "[<matplotlib.lines.Line2D at 0x7fd6a4f75cd0>]"
            ]
          },
          "metadata": {},
          "execution_count": 29
        },
        {
          "output_type": "display_data",
          "data": {
            "text/plain": [
              "<Figure size 432x288 with 1 Axes>"
            ],
            "image/png": "[encoded data removed]"
          },
          "metadata": {
            "needs_background": "light"
          }
        }
      ]
    },
    {
      "cell_type": "code",
      "source": [
        "(2-np.sqrt(2.5))"
      ],
      "metadata": {
        "colab": {
          "base_uri": "https://localhost:8080/",
          "height": 170
        },
        "id": "j5ey3uL7ZcdP",
        "outputId": "7779d5b2-2e67-4836-b978-fe5c87b03762"
      },
      "execution_count": 1,
      "outputs": [
        {
          "output_type": "error",
          "ename": "NameError",
          "evalue": "ignored",
          "traceback": [
            "\u001b[0;31m---------------------------------------------------------------------------\u001b[0m",
            "\u001b[0;31mNameError\u001b[0m                                 Traceback (most recent call last)",
            "\u001b[0;32m<ipython-input-1-df41c930be32>\u001b[0m in \u001b[0;36m<module>\u001b[0;34m()\u001b[0m\n\u001b[0;32m----> 1\u001b[0;31m \u001b[0;34m(\u001b[0m\u001b[0;36m2\u001b[0m\u001b[0;34m-\u001b[0m\u001b[0mnp\u001b[0m\u001b[0;34m.\u001b[0m\u001b[0msqrt\u001b[0m\u001b[0;34m(\u001b[0m\u001b[0;36m2.5\u001b[0m\u001b[0;34m)\u001b[0m\u001b[0;34m)\u001b[0m\u001b[0;34m\u001b[0m\u001b[0;34m\u001b[0m\u001b[0m\n\u001b[0m",
            "\u001b[0;31mNameError\u001b[0m: name 'np' is not defined"
          ]
        }
      ]
    },
    {
      "cell_type": "code",
      "source": [
        ""
      ],
      "metadata": {
        "id": "KLC9JBf7Zb1j"
      },
      "execution_count": null,
      "outputs": []
    }
  ]
}